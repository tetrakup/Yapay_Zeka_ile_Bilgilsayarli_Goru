{
 "cells": [
  {
   "cell_type": "code",
   "execution_count": 1,
   "id": "e60b4a80-b21b-4818-be6b-d180558cf1b9",
   "metadata": {},
   "outputs": [],
   "source": [
    "#library\n",
    "import cv2\n",
    "import numpy as np #temel matrix işl. icin"
   ]
  },
  {
   "cell_type": "code",
   "execution_count": 2,
   "id": "055d8786-1067-473d-a466-dcceecce2681",
   "metadata": {},
   "outputs": [
    {
     "name": "stdout",
     "output_type": "stream",
     "text": [
      "/home/isu-researcher/Yapay_Zeka_ile_Bilgilsayarli_Goru\n"
     ]
    },
    {
     "name": "stderr",
     "output_type": "stream",
     "text": [
      "qt.qpa.plugin: Could not find the Qt platform plugin \"wayland\" in \"/home/isu-researcher/.local/lib/python3.10/site-packages/cv2/qt/plugins\"\n"
     ]
    }
   ],
   "source": [
    "#reading, saving, displaying images\n",
    "!pwd\n",
    "img = cv2.imread(\"datasets/mathilda.jpg\")\n",
    "cv2.imwrite(\"datasets/clone_copy.jpg\", img) #resmi baska konuma kaydet.\n",
    "\n",
    "cv2.imshow(\"clone\", img)\n",
    "cv2.waitKey(0)\n",
    "cv2.destroyAllWindows()"
   ]
  },
  {
   "cell_type": "code",
   "execution_count": 3,
   "id": "090c1800",
   "metadata": {},
   "outputs": [
    {
     "name": "stdout",
     "output_type": "stream",
     "text": [
      "Original Image (607, 1080, 3)\n",
      "Resized Image (128, 128, 3)\n"
     ]
    }
   ],
   "source": [
    "#scaling(boyutlandirmak)\n",
    "\n",
    "img = cv2.imread(\"datasets/mathilda.jpg\")\n",
    "resized_img = cv2.resize(img, (128,128))\n",
    "\n",
    "print(\"Original Image\", img.shape)\n",
    "print(\"Resized Image\", resized_img.shape)\n",
    "\n",
    "cv2.imshow(\"Original Image\", img)\n",
    "cv2.imshow(\"Resized Image\", resized_img)\n",
    "\n",
    "cv2.waitKey(0)\n",
    "cv2.destroyAllWindows()\n"
   ]
  },
  {
   "cell_type": "code",
   "execution_count": 7,
   "id": "01ab0af2-56d0-484e-930e-704841f61fef",
   "metadata": {},
   "outputs": [],
   "source": [
    "# roi (region of interest)\n",
    "\n",
    "img = cv2.imread(\"datasets/mathilda.jpg\")\n",
    "face = img[100:300, 350:500]\n",
    "\n",
    "cv2.imshow(\"Original Image\", img)\n",
    "cv2.imshow(\"Face Image\", face)\n",
    "\n",
    "cv2.waitKey(0)\n",
    "cv2.destroyAllWindows()"
   ]
  },
  {
   "cell_type": "code",
   "execution_count": 8,
   "id": "791524d7-9072-4749-ab2d-3308f542b023",
   "metadata": {},
   "outputs": [
    {
     "name": "stdout",
     "output_type": "stream",
     "text": [
      "Original Image: (607, 1080, 3)\n",
      "Grayscale Image: (607, 1080)\n",
      "HSV Image: (607, 1080, 3)\n",
      "RGB Image: (607, 1080, 3)\n"
     ]
    }
   ],
   "source": [
    "#colorspaces\n",
    "img = cv2.imread(\"datasets/mathilda.jpg\")\n",
    "print(\"Original Image:\",img.shape) #x,y,n n=renk degeri \n",
    "cv2.imshow(\"Original Image\", img)\n",
    "\n",
    "gray = cv2.cvtColor(img, cv2.COLOR_BGR2GRAY) #imread her zaman bgr formatinda okur\n",
    "print(\"Grayscale Image:\",gray.shape)\n",
    "cv2.imshow(\"Grayscale Image\", gray)\n",
    "\n",
    "hsv = cv2.cvtColor(img, cv2.COLOR_BGR2HSV)\n",
    "print(\"HSV Image:\",hsv.shape)\n",
    "cv2.imshow(\"HSV Image\", hsv)\n",
    "\n",
    "rgb = cv2.cvtColor(img, cv2.COLOR_BGRA2RGB)\n",
    "print(\"RGB Image:\",rgb.shape)\n",
    "cv2.imshow(\"RGB Image\", rgb)\n",
    "\n",
    "cv2.waitKey(0)\n",
    "cv2.destroyAllWindows()"
   ]
  },
  {
   "cell_type": "code",
   "execution_count": 6,
   "id": "8d67fdbe-191c-4e40-bcab-890484738769",
   "metadata": {},
   "outputs": [
    {
     "name": "stdout",
     "output_type": "stream",
     "text": [
      "Canva Image: (512, 512, 3)\n"
     ]
    }
   ],
   "source": [
    "#drawing fuctions -line\n",
    "\n",
    "color = (255,255,0)\n",
    "canva = np.zeros((512,512,3),dtype=np.uint8)+100\n",
    "print(\"Canva Image:\", canva.shape)\n",
    "\n",
    "cv2.line(canva, (0,0), (200,250), color, 2)\n",
    "cv2.imshow(\"Canva\", canva)\n",
    "cv2.waitKey(0)\n",
    "cv2.destroyAllWindows()"
   ]
  },
  {
   "cell_type": "code",
   "execution_count": 10,
   "id": "8c192e6a-e69b-4ff7-bca8-bb96bd28c2ea",
   "metadata": {},
   "outputs": [
    {
     "name": "stdout",
     "output_type": "stream",
     "text": [
      "Canva Image: (512, 512, 3)\n"
     ]
    }
   ],
   "source": [
    "#drawing fuctions -circle\n",
    "color = (255,255,0)\n",
    "canva = np.zeros((512,512,3),dtype=np.uint8)+100\n",
    "print(\"Canva Image:\", canva.shape)\n",
    "\n",
    "cv2.circle(canva, (100,100), 50, color, 3) #1.cizim yapilcak tuval, 2.cemberin merkezi, 3.cemb. yaricapi, 4.renk 5.kalinlik\n",
    "cv2.circle(canva, (250,250), 50, color, -1)\n",
    "cv2.imshow(\"Canva\", canva)\n",
    "cv2.waitKey(0)\n",
    "cv2.destroyAllWindows()"
   ]
  },
  {
   "cell_type": "code",
   "execution_count": 8,
   "id": "eef4ff06-44f9-449d-a987-f956644e5a00",
   "metadata": {},
   "outputs": [
    {
     "name": "stdout",
     "output_type": "stream",
     "text": [
      "Canva Image: (512, 512, 3)\n"
     ]
    }
   ],
   "source": [
    "#drawing fuctions -rectange\n",
    "color = (255,255,0)\n",
    "canva = np.zeros((512,512,3),dtype=np.uint8)+100\n",
    "print(\"Canva Image:\", canva.shape)\n",
    "\n",
    "cv2.rectangle(canva, (100,100), (200,150), color, 2)\n",
    "cv2.rectangle(canva, (250,250), (300,300), color, -1)\n",
    "\n",
    "cv2.imshow(\"Canva\", canva)\n",
    "cv2.waitKey(0)\n",
    "cv2.destroyAllWindows()"
   ]
  },
  {
   "cell_type": "code",
   "execution_count": null,
   "id": "35b1f8cc-c792-477f-b389-d2de762a3e86",
   "metadata": {},
   "outputs": [],
   "source": [
    "#drawing fuctions -text\n",
    "#drawing fuctions -rectange\n",
    "color = (255,255,0)\n",
    "canva = np.zeros((512,512,3),dtype=np.uint8)+255  #(0, 0, ,0) --> (255, 255, 255)\n",
    "print(\"Canva Image:\", canva.shape)\n",
    "\n",
    "font = cv2.FONT_HERSHEY_SIMPLEX\n",
    "font_scale= 4 #fontun boyutu\n",
    "thickness = 2\n",
    "line_type = cv2.LINE_AA\n",
    "cv2.putText(canva, \"putText Opencv\",(100,100), font,font_scale, color, thickness, line_type)\n",
    "\n",
    "cv2.imshow(\"Canva\", canva)\n",
    "cv2.waitKey(0)\n",
    "cv2.destroyAllWindows()"
   ]
  },
  {
   "cell_type": "code",
   "execution_count": 4,
   "id": "6ff589e9",
   "metadata": {},
   "outputs": [],
   "source": [
    "import cv2\n",
    "\n",
    "capture = cv2.VideoCapture(\"datasets/video.mp4\") #webcam -->cv2.VideoCapture(0)\n",
    "\n",
    "while True:\n",
    "    ret, frame = capture.read()\n",
    "    if ret == False:\n",
    "        break\n",
    "    resized_frame = cv2.resize(frame, (640,480))\n",
    "    hsv = cv2.cvtColor(resized_frame, cv2.COLOR_BGR2HSV)\n",
    "\n",
    "    cv2.imshow(\"Original Video\",resized_frame)\n",
    "    cv2.imshow(\"HSV Video\",hsv)\n",
    "    \n",
    "    if cv2.waitKey(8) & 0xFF == ord(\"q\"):\n",
    "        break\n",
    "\n",
    "\n",
    "capture.release()\n",
    "cv2.destroyAllWindows()"
   ]
  }
 ],
 "metadata": {
  "kernelspec": {
   "display_name": "Python 3 (ipykernel)",
   "language": "python",
   "name": "python3"
  },
  "language_info": {
   "codemirror_mode": {
    "name": "ipython",
    "version": 3
   },
   "file_extension": ".py",
   "mimetype": "text/x-python",
   "name": "python",
   "nbconvert_exporter": "python",
   "pygments_lexer": "ipython3",
   "version": "3.10.12"
  }
 },
 "nbformat": 4,
 "nbformat_minor": 5
}
