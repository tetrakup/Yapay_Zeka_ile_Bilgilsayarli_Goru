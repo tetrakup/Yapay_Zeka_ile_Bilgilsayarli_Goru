{
 "cells": [
  {
   "cell_type": "code",
   "execution_count": 3,
   "metadata": {},
   "outputs": [],
   "source": [
    "#library\n",
    "from keras.preprocessing.image import load_img, img_to_array\n",
    "#from tensorflow.keras.utils import load_img"
   ]
  },
  {
   "cell_type": "code",
   "execution_count": 9,
   "metadata": {},
   "outputs": [
    {
     "name": "stdout",
     "output_type": "stream",
     "text": [
      "Shape: (449, 800, 3)\n",
      "ReShaped: (1, 449, 800, 3)\n"
     ]
    }
   ],
   "source": [
    "img = load_img(\"datasets/leon.jpg\")\n",
    "# type(img)\n",
    "\"\"\"\n",
    "1.(100,100,3)\n",
    "2.PIL --> array\n",
    "3.(1#veri sayisi,100,100,3) (yığın)\n",
    "\"\"\"\n",
    "img_array = img_to_array(img)\n",
    "#type(img_array)\n",
    "\n",
    "print(\"Shape:\",img_array.shape) #boyutunu verşr\n",
    "\n",
    "reshaped_img_array = img_array.reshape( (1,) + img_array.shape)\n",
    "print(\"ReShaped:\",reshaped_img_array.shape)"
   ]
  },
  {
   "cell_type": "code",
   "execution_count": null,
   "metadata": {},
   "outputs": [],
   "source": [
    "print(\"deneme\")"
   ]
  }
 ],
 "metadata": {
  "kernelspec": {
   "display_name": "Python 3",
   "language": "python",
   "name": "python3"
  },
  "language_info": {
   "codemirror_mode": {
    "name": "ipython",
    "version": 3
   },
   "file_extension": ".py",
   "mimetype": "text/x-python",
   "name": "python",
   "nbconvert_exporter": "python",
   "pygments_lexer": "ipython3",
   "version": "3.10.12"
  }
 },
 "nbformat": 4,
 "nbformat_minor": 2
}
