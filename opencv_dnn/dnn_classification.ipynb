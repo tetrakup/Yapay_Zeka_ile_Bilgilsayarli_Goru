{
 "cells": [
  {
   "cell_type": "code",
   "execution_count": null,
   "metadata": {
    "vscode": {
     "languageId": "plaintext"
    }
   },
   "outputs": [],
   "source": [
    "import cv2\n",
    "import numpy as np"
   ]
  },
  {
   "cell_type": "code",
   "execution_count": null,
   "metadata": {
    "vscode": {
     "languageId": "plaintext"
    }
   },
   "outputs": [],
   "source": [
    "test_img = cv2.imread(\"test.jpg\")\n",
    "test_img.shape"
   ]
  },
  {
   "cell_type": "code",
   "execution_count": null,
   "metadata": {
    "vscode": {
     "languageId": "plaintext"
    }
   },
   "outputs": [],
   "source": [
    "with open(\"data/labels.txt\", \"r\") as l:\n",
    "    names = l.read().split(\"\\n\")\n",
    "#print(names[0])\n",
    "class_names = [name.split(\",\")[0] for name in names]\n",
    "#print(class_names[1])"
   ]
  },
  {
   "cell_type": "code",
   "execution_count": null,
   "metadata": {
    "vscode": {
     "languageId": "plaintext"
    }
   },
   "outputs": [],
   "source": [
    "model = cv2.dnn.readNet(\n",
    "    model = \"data/DenseNet_121.caffemodel\",\n",
    "    config = \"data/DenseNet_121.prototxt\",\n",
    "    framework = \"Caffe\"\n",
    ")"
   ]
  },
  {
   "cell_type": "code",
   "execution_count": null,
   "metadata": {
    "vscode": {
     "languageId": "plaintext"
    }
   },
   "outputs": [],
   "source": [
    "blob = cv2.dnn.blobFromImage(\n",
    "    image = test_img,\n",
    "    scalefactor = 0.01,\n",
    "    size = (224,224),\n",
    "    mean = (104, 117, 123) #yaygin kullanim\n",
    ")\n",
    "\n",
    "model.setInput(blob)\n",
    "\n",
    "outputs = model.forward()\n",
    "outputs = outputs[0]\n",
    "outputs = outputs.reshape(1000,1) #tek boyutlu tensor olusturduk\n",
    "\n",
    "label_id = np.argmax(outputs) # en yuksek olasılıga sahip output\n",
    "class_name = class_names[label_id]\n",
    "print(class_name)\n",
    "\n",
    "probability = np.exp(outputs) / np.sum(np.exp(outputs))\n",
    "probability = np.max(probability) * 100\n",
    "probability = \" %{:.2f}\".format(probability)\n",
    "\n",
    "cv2.putText(test_img, class_name, (20, 40), cv2.FONT_HERSHEY_SIMPLEX, 1, (255,0,0))\n",
    "cv2.putText(test_img, probability, (150, 40), cv2.FONT_HERSHEY_SIMPLEX, 1, (255,0,0))\n",
    "\n",
    "cv2.imshow(\"Prediction\", test_img)\n",
    "cv2.waitKey(0)\n",
    "cv2.destroyAllWindows()\n"
   ]
  },
  {
   "cell_type": "code",
   "execution_count": null,
   "metadata": {
    "vscode": {
     "languageId": "plaintext"
    }
   },
   "outputs": [],
   "source": [
    "len(outputs)\n",
    "outputs\n",
    "np.exp(outputs) / np.sum(np.exp(outputs))"
   ]
  }
 ],
 "metadata": {
  "language_info": {
   "name": "python"
  }
 },
 "nbformat": 4,
 "nbformat_minor": 2
}
