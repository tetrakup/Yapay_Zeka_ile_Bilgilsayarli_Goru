{
 "cells": [
  {
   "cell_type": "code",
   "execution_count": null,
   "metadata": {},
   "outputs": [],
   "source": [
    "#%pip install mediapipe"
   ]
  },
  {
   "cell_type": "code",
   "execution_count": 8,
   "metadata": {},
   "outputs": [],
   "source": [
    "import cv2\n",
    "import time\n",
    "import numpy as numpy\n",
    "import mediapipe as mp"
   ]
  },
  {
   "cell_type": "markdown",
   "metadata": {},
   "source": [
    "## 1.Face Mesh"
   ]
  },
  {
   "cell_type": "code",
   "execution_count": null,
   "metadata": {},
   "outputs": [],
   "source": [
    "mp_face_mesh = mp.solutions.face_mesh\n",
    "mp_drawing = mp.solutions.drawing_utils\n",
    "drawing_spec = mp_drawing.DrawingSpec(thickness = 1, circle_radius = 1)\n",
    "\n",
    "\n",
    "cap = cv2.VideoCapture(\"face.mp4\")\n",
    "\n",
    "with mp_face_mesh.FaceMesh(min_detection_confidence = 0.5,\n",
    "                           min_tracking_confidence = 0.5) as face_mesh:\n",
    "    while cap.isOpened():\n",
    "        ret, frame = cap.read()\n",
    "        start = time.time()\n",
    "\n",
    "        frame = cv2.cvtColor(frame, cv2.COLOR_BGR2RGB)\n",
    "        mesh = face_mesh.process(frame)\n",
    "        frame = cv2.cvtColor(frame, cv2.COLOR_RGB2BGR)\n",
    "\n",
    "        if mesh.multi_face_landmarks:\n",
    "           for face_landmarks in mesh.multi_face_landmarks:\n",
    "              mp_drawing.draw_landmarks(\n",
    "                                        image = frame,\n",
    "                                        landmark_list = face_landmarks,\n",
    "                                        connections = mp_face_mesh.FACEMESH_TESSELATION,\n",
    "                                        landmark_drawing_spec = drawing_spec,\n",
    "                                        connection_drawing_spec = drawing_spec\n",
    "                                        )\n",
    "\n",
    "        end = time.time()\n",
    "        total_time = end - start\n",
    "\n",
    "        if total_time == 0:\n",
    "            total_time =  1\n",
    "\n",
    "        fps = 1/total_time\n",
    "        cv2.putText(frame, f\"FPS:{int(fps)}\", (30,90), cv2.FONT_HERSHEY_SIMPLEX, 1.2,(0,255,0),2)\n",
    "        cv2.imshow(\"Camera\", frame)\n",
    "        if cv2.waitKey(10) & 0xFF==ord(\"q\"):\n",
    "            break\n",
    "\n",
    "cap.release()\n",
    "cv2.destroyAllWindows()"
   ]
  }
 ],
 "metadata": {
  "kernelspec": {
   "display_name": "Python 3",
   "language": "python",
   "name": "python3"
  },
  "language_info": {
   "codemirror_mode": {
    "name": "ipython",
    "version": 3
   },
   "file_extension": ".py",
   "mimetype": "text/x-python",
   "name": "python",
   "nbconvert_exporter": "python",
   "pygments_lexer": "ipython3",
   "version": "3.10.12"
  }
 },
 "nbformat": 4,
 "nbformat_minor": 2
}
