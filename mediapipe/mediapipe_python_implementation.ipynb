{
 "cells": [
  {
   "cell_type": "code",
   "execution_count": null,
   "metadata": {},
   "outputs": [],
   "source": [
    "#%pip install mediapipe"
   ]
  },
  {
   "cell_type": "code",
   "execution_count": 2,
   "metadata": {},
   "outputs": [
    {
     "name": "stderr",
     "output_type": "stream",
     "text": [
      "2024-10-15 16:40:24.218156: E external/local_xla/xla/stream_executor/cuda/cuda_dnn.cc:9261] Unable to register cuDNN factory: Attempting to register factory for plugin cuDNN when one has already been registered\n",
      "2024-10-15 16:40:24.218196: E external/local_xla/xla/stream_executor/cuda/cuda_fft.cc:607] Unable to register cuFFT factory: Attempting to register factory for plugin cuFFT when one has already been registered\n",
      "2024-10-15 16:40:24.219417: E external/local_xla/xla/stream_executor/cuda/cuda_blas.cc:1515] Unable to register cuBLAS factory: Attempting to register factory for plugin cuBLAS when one has already been registered\n",
      "2024-10-15 16:40:24.226458: I tensorflow/core/platform/cpu_feature_guard.cc:182] This TensorFlow binary is optimized to use available CPU instructions in performance-critical operations.\n",
      "To enable the following instructions: AVX2 FMA, in other operations, rebuild TensorFlow with the appropriate compiler flags.\n",
      "2024-10-15 16:40:25.141790: W tensorflow/compiler/tf2tensorrt/utils/py_utils.cc:38] TF-TRT Warning: Could not find TensorRT\n"
     ]
    }
   ],
   "source": [
    "import cv2\n",
    "import time\n",
    "import numpy as numpy\n",
    "import mediapipe as mp"
   ]
  },
  {
   "cell_type": "markdown",
   "metadata": {},
   "source": [
    "## 1.Face Mesh"
   ]
  },
  {
   "cell_type": "code",
   "execution_count": null,
   "metadata": {},
   "outputs": [],
   "source": [
    "mp_face_mesh = mp.solutions.face_mesh\n",
    "mp_drawing = mp.solutions.drawing_utils\n",
    "drawing_spec = mp_drawing.DrawingSpec(thickness = 1, circle_radius = 1)\n",
    "\n",
    "\n",
    "cap = cv2.VideoCapture(0) #\"face.mp4\"\n",
    "\n",
    "with mp_face_mesh.FaceMesh(min_detection_confidence = 0.5,\n",
    "                           min_tracking_confidence = 0.5) as face_mesh:\n",
    "    while cap.isOpened():\n",
    "        ret, frame = cap.read()\n",
    "        start = time.time()\n",
    "\n",
    "        frame = cv2.cvtColor(frame, cv2.COLOR_BGR2RGB)\n",
    "        mesh = face_mesh.process(frame)\n",
    "        frame = cv2.cvtColor(frame, cv2.COLOR_RGB2BGR)\n",
    "\n",
    "        if mesh.multi_face_landmarks:\n",
    "           for face_landmarks in mesh.multi_face_landmarks:\n",
    "              mp_drawing.draw_landmarks(\n",
    "                                        image = frame,\n",
    "                                        landmark_list = face_landmarks,\n",
    "                                        connections = mp_face_mesh.FACEMESH_TESSELATION,\n",
    "                                        landmark_drawing_spec = drawing_spec,\n",
    "                                        connection_drawing_spec = drawing_spec\n",
    "                                        )\n",
    "\n",
    "        end = time.time()\n",
    "        total_time = end - start\n",
    "\n",
    "        if total_time == 0:\n",
    "            total_time =  1\n",
    "\n",
    "        fps = 1/total_time\n",
    "        cv2.putText(frame, f\"FPS:{int(fps)}\", (30,90), cv2.FONT_HERSHEY_SIMPLEX, 1.2,(0,255,0),2)\n",
    "        cv2.imshow(\"Camera\", frame)\n",
    "        if cv2.waitKey(10) & 0xFF==ord(\"q\"):\n",
    "            break\n",
    "\n",
    "cap.release()\n",
    "cv2.destroyAllWindows()"
   ]
  },
  {
   "cell_type": "markdown",
   "metadata": {},
   "source": [
    "## 2.Hande Pose Estimation"
   ]
  },
  {
   "cell_type": "code",
   "execution_count": 6,
   "metadata": {},
   "outputs": [
    {
     "name": "stderr",
     "output_type": "stream",
     "text": [
      "I0000 00:00:1729000455.044314  232995 gl_context_egl.cc:85] Successfully initialized EGL. Major : 1 Minor: 5\n",
      "I0000 00:00:1729000455.045190  234338 gl_context.cc:357] GL version: 3.2 (OpenGL ES 3.2 Mesa 23.2.1-1ubuntu3.1~22.04.2), renderer: Mesa Intel(R) UHD Graphics (CML GT2)\n",
      "W0000 00:00:1729000455.068877  234326 inference_feedback_manager.cc:114] Feedback manager requires a model with a single signature inference. Disabling support for feedback tensors.\n",
      "W0000 00:00:1729000455.086943  234334 inference_feedback_manager.cc:114] Feedback manager requires a model with a single signature inference. Disabling support for feedback tensors.\n"
     ]
    }
   ],
   "source": [
    "mp_hands = mp.solutions.hands\n",
    "mp_drawing = mp.solutions.drawing_utils\n",
    "\n",
    "\n",
    "cap = cv2.VideoCapture(0) #\"hand.mp4\"\n",
    "\n",
    "with mp_hands.Hands(min_detection_confidence = 0.5,\n",
    "                           min_tracking_confidence = 0.5) as hands:\n",
    "    while cap.isOpened():\n",
    "        ret, frame = cap.read()\n",
    "        start = time.time()\n",
    "\n",
    "        frame = cv2.cvtColor(frame, cv2.COLOR_BGR2RGB)\n",
    "        mesh = hands.process(frame)\n",
    "        frame = cv2.cvtColor(frame, cv2.COLOR_RGB2BGR)\n",
    "\n",
    "        if mesh.multi_hand_landmarks:\n",
    "           for hand_landmarks in mesh.multi_hand_landmarks:\n",
    "              mp_drawing.draw_landmarks(\n",
    "                                        image = frame,\n",
    "                                        landmark_list = hand_landmarks,\n",
    "                                        connections = mp_hands.HAND_CONNECTIONS,\n",
    "                                        )\n",
    "\n",
    "        end = time.time()\n",
    "        total_time = end - start\n",
    "\n",
    "        if total_time == 0:\n",
    "            total_time =  1\n",
    "\n",
    "        fps = 1/total_time\n",
    "        cv2.putText(frame, f\"FPS:{int(fps)}\", (30,90), cv2.FONT_HERSHEY_SIMPLEX, 1.2,(0,255,0),2)\n",
    "        cv2.imshow(\"Camera\", frame)\n",
    "        if cv2.waitKey(10) & 0xFF==ord(\"q\"):\n",
    "            break\n",
    "\n",
    "cap.release()\n",
    "cv2.destroyAllWindows()"
   ]
  },
  {
   "cell_type": "code",
   "execution_count": null,
   "metadata": {},
   "outputs": [],
   "source": []
  },
  {
   "cell_type": "code",
   "execution_count": null,
   "metadata": {},
   "outputs": [],
   "source": []
  }
 ],
 "metadata": {
  "kernelspec": {
   "display_name": "Python 3",
   "language": "python",
   "name": "python3"
  },
  "language_info": {
   "codemirror_mode": {
    "name": "ipython",
    "version": 3
   },
   "file_extension": ".py",
   "mimetype": "text/x-python",
   "name": "python",
   "nbconvert_exporter": "python",
   "pygments_lexer": "ipython3",
   "version": "3.10.12"
  }
 },
 "nbformat": 4,
 "nbformat_minor": 2
}
