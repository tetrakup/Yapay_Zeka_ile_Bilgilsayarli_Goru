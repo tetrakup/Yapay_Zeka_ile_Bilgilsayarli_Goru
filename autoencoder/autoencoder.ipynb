{
 "cells": [
  {
   "cell_type": "code",
   "execution_count": null,
   "metadata": {},
   "outputs": [],
   "source": [
    "import keras\n",
    "from keras import layers"
   ]
  },
  {
   "cell_type": "code",
   "execution_count": 2,
   "metadata": {},
   "outputs": [],
   "source": [
    "encoding_dims = 32\n",
    "\n",
    "input_img = keras.Input(shape=(784,))\n",
    "encoded = layers.Dense(encoding_dims, activation=\"relu\")(input_img)\n",
    "decoded = layers.Dense(784, activation=\"sigmoid\")(encoded)\n",
    "\n",
    "autoencoder = keras.Model(input_img, decoded)"
   ]
  },
  {
   "cell_type": "code",
   "execution_count": 3,
   "metadata": {},
   "outputs": [],
   "source": [
    "encoder = keras.Model(input_img, encoded)\n",
    "encoded_input = keras.Input(shape=(encoding_dims,))\n",
    "decoded_layer = autoencoder.layers[-1]\n",
    "decoder = keras.Model(encoded_input, decoded_layer(encoded_input))"
   ]
  },
  {
   "cell_type": "code",
   "execution_count": 4,
   "metadata": {},
   "outputs": [],
   "source": [
    "autoencoder.compile(optimizer=\"adam\", loss=\"binary_crossentropy\")"
   ]
  },
  {
   "cell_type": "code",
   "execution_count": 5,
   "metadata": {},
   "outputs": [],
   "source": [
    "from keras.datasets import mnist\n",
    "import numpy as np"
   ]
  },
  {
   "cell_type": "code",
   "execution_count": 6,
   "metadata": {},
   "outputs": [],
   "source": [
    "(x_train,_),(x_test,_) = mnist.load_data()"
   ]
  },
  {
   "cell_type": "code",
   "execution_count": 7,
   "metadata": {},
   "outputs": [],
   "source": [
    "x_train = x_train.astype(\"float32\")/255\n",
    "x_test = x_test.astype(\"float32\")/255"
   ]
  },
  {
   "cell_type": "code",
   "execution_count": 8,
   "metadata": {},
   "outputs": [
    {
     "name": "stdout",
     "output_type": "stream",
     "text": [
      "(60000, 784)\n",
      "(10000, 784)\n"
     ]
    }
   ],
   "source": [
    "x_train = x_train.reshape((len(x_train),np.prod(x_train.shape[1:])))\n",
    "x_test = x_test.reshape((len(x_test), np.prod(x_test.shape[1:])))\n",
    "\n",
    "print(x_train.shape)\n",
    "print(x_test.shape)"
   ]
  },
  {
   "cell_type": "code",
   "execution_count": 9,
   "metadata": {},
   "outputs": [
    {
     "name": "stdout",
     "output_type": "stream",
     "text": [
      "Epoch 1/50\n",
      "235/235 [==============================] - 2s 5ms/step - loss: 0.2742 - val_loss: 0.1853\n",
      "Epoch 2/50\n",
      "235/235 [==============================] - 1s 5ms/step - loss: 0.1670 - val_loss: 0.1500\n",
      "Epoch 3/50\n",
      "235/235 [==============================] - 1s 5ms/step - loss: 0.1421 - val_loss: 0.1326\n",
      "Epoch 4/50\n",
      "235/235 [==============================] - 1s 5ms/step - loss: 0.1279 - val_loss: 0.1209\n",
      "Epoch 5/50\n",
      "235/235 [==============================] - 1s 5ms/step - loss: 0.1180 - val_loss: 0.1127\n",
      "Epoch 6/50\n",
      "235/235 [==============================] - 1s 5ms/step - loss: 0.1110 - val_loss: 0.1068\n",
      "Epoch 7/50\n",
      "235/235 [==============================] - 1s 5ms/step - loss: 0.1060 - val_loss: 0.1023\n",
      "Epoch 8/50\n",
      "235/235 [==============================] - 1s 5ms/step - loss: 0.1021 - val_loss: 0.0991\n",
      "Epoch 9/50\n",
      "235/235 [==============================] - 1s 5ms/step - loss: 0.0993 - val_loss: 0.0968\n",
      "Epoch 10/50\n",
      "235/235 [==============================] - 1s 5ms/step - loss: 0.0975 - val_loss: 0.0953\n",
      "Epoch 11/50\n",
      "235/235 [==============================] - 1s 5ms/step - loss: 0.0962 - val_loss: 0.0943\n",
      "Epoch 12/50\n",
      "235/235 [==============================] - 1s 5ms/step - loss: 0.0954 - val_loss: 0.0936\n",
      "Epoch 13/50\n",
      "235/235 [==============================] - 1s 5ms/step - loss: 0.0948 - val_loss: 0.0931\n",
      "Epoch 14/50\n",
      "235/235 [==============================] - 1s 5ms/step - loss: 0.0944 - val_loss: 0.0928\n",
      "Epoch 15/50\n",
      "235/235 [==============================] - 1s 5ms/step - loss: 0.0941 - val_loss: 0.0926\n",
      "Epoch 16/50\n",
      "235/235 [==============================] - 1s 5ms/step - loss: 0.0939 - val_loss: 0.0924\n",
      "Epoch 17/50\n",
      "235/235 [==============================] - 1s 5ms/step - loss: 0.0938 - val_loss: 0.0923\n",
      "Epoch 18/50\n",
      "235/235 [==============================] - 1s 5ms/step - loss: 0.0937 - val_loss: 0.0921\n",
      "Epoch 19/50\n",
      "235/235 [==============================] - 1s 5ms/step - loss: 0.0935 - val_loss: 0.0924\n",
      "Epoch 20/50\n",
      "235/235 [==============================] - 1s 6ms/step - loss: 0.0935 - val_loss: 0.0921\n",
      "Epoch 21/50\n",
      "235/235 [==============================] - 1s 6ms/step - loss: 0.0934 - val_loss: 0.0920\n",
      "Epoch 22/50\n",
      "235/235 [==============================] - 1s 5ms/step - loss: 0.0933 - val_loss: 0.0920\n",
      "Epoch 23/50\n",
      "235/235 [==============================] - 1s 5ms/step - loss: 0.0933 - val_loss: 0.0919\n",
      "Epoch 24/50\n",
      "235/235 [==============================] - 1s 5ms/step - loss: 0.0932 - val_loss: 0.0919\n",
      "Epoch 25/50\n",
      "235/235 [==============================] - 1s 5ms/step - loss: 0.0932 - val_loss: 0.0919\n",
      "Epoch 26/50\n",
      "235/235 [==============================] - 1s 5ms/step - loss: 0.0931 - val_loss: 0.0917\n",
      "Epoch 27/50\n",
      "235/235 [==============================] - 1s 4ms/step - loss: 0.0931 - val_loss: 0.0917\n",
      "Epoch 28/50\n",
      "235/235 [==============================] - 1s 5ms/step - loss: 0.0930 - val_loss: 0.0918\n",
      "Epoch 29/50\n",
      "235/235 [==============================] - 1s 5ms/step - loss: 0.0930 - val_loss: 0.0917\n",
      "Epoch 30/50\n",
      "235/235 [==============================] - 1s 6ms/step - loss: 0.0930 - val_loss: 0.0917\n",
      "Epoch 31/50\n",
      "235/235 [==============================] - 2s 7ms/step - loss: 0.0929 - val_loss: 0.0917\n",
      "Epoch 32/50\n",
      "235/235 [==============================] - 1s 6ms/step - loss: 0.0929 - val_loss: 0.0917\n",
      "Epoch 33/50\n",
      "235/235 [==============================] - 2s 7ms/step - loss: 0.0929 - val_loss: 0.0916\n",
      "Epoch 34/50\n",
      "235/235 [==============================] - 2s 7ms/step - loss: 0.0929 - val_loss: 0.0916\n",
      "Epoch 35/50\n",
      "235/235 [==============================] - 2s 7ms/step - loss: 0.0929 - val_loss: 0.0917\n",
      "Epoch 36/50\n",
      "235/235 [==============================] - 1s 6ms/step - loss: 0.0928 - val_loss: 0.0916\n",
      "Epoch 37/50\n",
      "235/235 [==============================] - 2s 6ms/step - loss: 0.0928 - val_loss: 0.0917\n",
      "Epoch 38/50\n",
      "235/235 [==============================] - 2s 7ms/step - loss: 0.0928 - val_loss: 0.0915\n",
      "Epoch 39/50\n",
      "235/235 [==============================] - 1s 6ms/step - loss: 0.0928 - val_loss: 0.0915\n",
      "Epoch 40/50\n",
      "235/235 [==============================] - 2s 7ms/step - loss: 0.0928 - val_loss: 0.0915\n",
      "Epoch 41/50\n",
      "235/235 [==============================] - 2s 7ms/step - loss: 0.0928 - val_loss: 0.0915\n",
      "Epoch 42/50\n",
      "235/235 [==============================] - 2s 7ms/step - loss: 0.0927 - val_loss: 0.0915\n",
      "Epoch 43/50\n",
      "235/235 [==============================] - 1s 6ms/step - loss: 0.0927 - val_loss: 0.0915\n",
      "Epoch 44/50\n",
      "235/235 [==============================] - 2s 6ms/step - loss: 0.0927 - val_loss: 0.0916\n",
      "Epoch 45/50\n",
      "235/235 [==============================] - 2s 7ms/step - loss: 0.0927 - val_loss: 0.0915\n",
      "Epoch 46/50\n",
      "235/235 [==============================] - 1s 6ms/step - loss: 0.0927 - val_loss: 0.0915\n",
      "Epoch 47/50\n",
      "235/235 [==============================] - 2s 7ms/step - loss: 0.0927 - val_loss: 0.0915\n",
      "Epoch 48/50\n",
      "235/235 [==============================] - 1s 6ms/step - loss: 0.0927 - val_loss: 0.0915\n",
      "Epoch 49/50\n",
      "235/235 [==============================] - 1s 6ms/step - loss: 0.0926 - val_loss: 0.0915\n",
      "Epoch 50/50\n",
      "235/235 [==============================] - 2s 7ms/step - loss: 0.0926 - val_loss: 0.0915\n"
     ]
    },
    {
     "data": {
      "text/plain": [
       "<keras.src.callbacks.History at 0x744eed3f1300>"
      ]
     },
     "execution_count": 9,
     "metadata": {},
     "output_type": "execute_result"
    }
   ],
   "source": [
    "autoencoder.fit(\n",
    "    x_train,\n",
    "    x_train,\n",
    "    epochs=50,\n",
    "    batch_size=256,\n",
    "    validation_data=(x_test, x_test)\n",
    ")"
   ]
  },
  {
   "cell_type": "code",
   "execution_count": 10,
   "metadata": {},
   "outputs": [
    {
     "name": "stdout",
     "output_type": "stream",
     "text": [
      "313/313 [==============================] - 0s 1ms/step\n",
      "313/313 [==============================] - 0s 1ms/step\n"
     ]
    }
   ],
   "source": [
    "encoded_imgs = encoder.predict(x_test)\n",
    "decoded_imgs = decoder.predict(encoded_imgs)"
   ]
  },
  {
   "cell_type": "code",
   "execution_count": 12,
   "metadata": {},
   "outputs": [
    {
     "data": {
      "image/png": "[encoded data removed]",
      "text/plain": [
       "<Figure size 1800x500 with 20 Axes>"
      ]
     },
     "metadata": {},
     "output_type": "display_data"
    }
   ],
   "source": [
    "import matplotlib.pyplot as plt\n",
    "\n",
    "n = 10\n",
    "plt.figure(figsize=(18,5))\n",
    "\n",
    "for i in range(n):\n",
    "    ax = plt.subplot(2, n, i+1)\n",
    "    plt.imshow(x_test[i].reshape(28, 28))\n",
    "    plt.gray()\n",
    "\n",
    "    ax = plt.subplot(2, n, i+1+n)\n",
    "    plt.imshow(decoded_imgs[i].reshape(28, 28))\n",
    "    plt.gray()\n",
    "\n",
    "plt.show()\n"
   ]
  }
 ],
 "metadata": {
  "kernelspec": {
   "display_name": "Python 3",
   "language": "python",
   "name": "python3"
  },
  "language_info": {
   "codemirror_mode": {
    "name": "ipython",
    "version": 3
   },
   "file_extension": ".py",
   "mimetype": "text/x-python",
   "name": "python",
   "nbconvert_exporter": "python",
   "pygments_lexer": "ipython3",
   "version": "3.10.12"
  }
 },
 "nbformat": 4,
 "nbformat_minor": 2
}
