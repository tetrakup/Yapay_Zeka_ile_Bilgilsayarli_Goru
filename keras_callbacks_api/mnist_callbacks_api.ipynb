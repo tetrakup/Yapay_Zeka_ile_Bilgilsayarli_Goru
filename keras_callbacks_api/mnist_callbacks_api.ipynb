{
 "cells": [
  {
   "cell_type": "code",
   "execution_count": 4,
   "metadata": {},
   "outputs": [],
   "source": [
    "import keras\n",
    "import tensorflow as tf\n",
    "import matplotlib.pyplot as plt\n"
   ]
  },
  {
   "cell_type": "code",
   "execution_count": 5,
   "metadata": {},
   "outputs": [],
   "source": [
    "def pltData(history, metric):\n",
    "    train_metrics = history.history[metric]\n",
    "    validation_metrics = history.history[\"value_\"+metric]\n",
    "\n",
    "    epochs = range(1, len(train_metrics)+1)\n",
    "\n",
    "    plt.plot(epochs, train_metrics)\n",
    "    plt.plot(epochs, validation_metrics)\n",
    "\n",
    "    plt.title(\"Training&Validation\"+metric)\n",
    "\n",
    "    plt.xlabel(\"Epochs\")\n",
    "    plt.ylabel(metric)\n",
    "    plt.legend([\"train_\"+metric,\"val_\"+metric])\n",
    "\n",
    "    plt.show()"
   ]
  },
  {
   "cell_type": "code",
   "execution_count": 6,
   "metadata": {},
   "outputs": [],
   "source": [
    "def pltLR(history):\n",
    "    learning_rate = history.history[\"lr\"]\n",
    "    epochs = range(1, len(learning_rate)+1)\n",
    "\n",
    "    plt.plot(epochs, learning_rate)\n",
    "\n",
    "    plt.title(\"Learning Rate\")\n",
    "\n",
    "    plt.xlabel(\"Epochs\")\n",
    "    plt.ylabel(\"Learning Rate\")\n",
    "\n",
    "    plt.show()"
   ]
  }
 ],
 "metadata": {
  "kernelspec": {
   "display_name": "Python 3",
   "language": "python",
   "name": "python3"
  },
  "language_info": {
   "codemirror_mode": {
    "name": "ipython",
    "version": 3
   },
   "file_extension": ".py",
   "mimetype": "text/x-python",
   "name": "python",
   "nbconvert_exporter": "python",
   "pygments_lexer": "ipython3",
   "version": "3.10.12"
  }
 },
 "nbformat": 4,
 "nbformat_minor": 2
}
