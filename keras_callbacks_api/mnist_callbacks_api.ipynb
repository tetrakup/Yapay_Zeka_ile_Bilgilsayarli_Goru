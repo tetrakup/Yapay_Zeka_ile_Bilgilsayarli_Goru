{
 "cells": [
  {
   "cell_type": "code",
   "execution_count": 4,
   "metadata": {},
   "outputs": [],
   "source": [
    "import keras\n",
    "import tensorflow as tf\n",
    "import matplotlib.pyplot as plt\n"
   ]
  },
  {
   "cell_type": "code",
   "execution_count": 10,
   "metadata": {},
   "outputs": [],
   "source": [
    "input_shape =(28,28,1)"
   ]
  },
  {
   "cell_type": "code",
   "execution_count": 30,
   "metadata": {},
   "outputs": [],
   "source": [
    "def plotData(history, metric):\n",
    "    train_metrics = history.history[metric]\n",
    "    validation_metrics = history.history[\"val_\"+metric]\n",
    "\n",
    "    epochs = range(1, len(train_metrics)+1)\n",
    "\n",
    "    plt.plot(epochs, train_metrics)\n",
    "    plt.plot(epochs, validation_metrics)\n",
    "\n",
    "    plt.title(\"Training&Validation\"+metric)\n",
    "\n",
    "    plt.xlabel(\"Epochs\")\n",
    "    plt.ylabel(metric)\n",
    "    plt.legend([\"train_\"+metric,\"val_\"+metric])\n",
    "\n",
    "    plt.show()"
   ]
  },
  {
   "cell_type": "code",
   "execution_count": 31,
   "metadata": {},
   "outputs": [],
   "source": [
    "def pltLR(history):\n",
    "    learning_rate = history.history[\"lr\"]\n",
    "    epochs = range(1, len(learning_rate)+1)\n",
    "\n",
    "    plt.plot(epochs, learning_rate)\n",
    "\n",
    "    plt.title(\"Learning Rate\")\n",
    "\n",
    "    plt.xlabel(\"Epochs\")\n",
    "    plt.ylabel(\"Learning Rate\")\n",
    "\n",
    "    plt.show()"
   ]
  },
  {
   "cell_type": "code",
   "execution_count": 32,
   "metadata": {},
   "outputs": [
    {
     "name": "stdout",
     "output_type": "stream",
     "text": [
      "Shape of Train Images: (60000, 28, 28)\n",
      "Shape of Test Images: (10000, 28, 28)\n"
     ]
    }
   ],
   "source": [
    "from keras.datasets import mnist\n",
    "\n",
    "(train_images, train_labels) = mnist.load_data()[0]\n",
    "(test_images, test_labels) = mnist.load_data()[1]\n",
    "\n",
    "print(\"Shape of Train Images:\", train_images.shape)\n",
    "print(\"Shape of Test Images:\", test_images.shape)"
   ]
  },
  {
   "cell_type": "code",
   "execution_count": 33,
   "metadata": {},
   "outputs": [],
   "source": [
    "from keras.models import Sequential\n",
    "from keras.layers import Conv2D, Dense, Dropout, Flatten, MaxPooling2D\n",
    "\n",
    "def mnist_model(input_shape):\n",
    "    model = Sequential([Conv2D(28, kernel_size =(3,3), input_shape=input_shape),\n",
    "                        MaxPooling2D(pool_size=(2,2)),\n",
    "                        Flatten(),\n",
    "                        Dense(128, activation=\"relu\"),\n",
    "                        Dropout(0.2),\n",
    "                        Dense(10, activation=\"softmax\"),\n",
    "                        ])\n",
    "    model.compile(\n",
    "                  optimizer=\"adam\",\n",
    "                  loss=\"sparse_categorical_crossentropy\",\n",
    "                  metrics=[\"accuracy\"]\n",
    "                  )\n",
    "    \n",
    "    return model"
   ]
  },
  {
   "cell_type": "code",
   "execution_count": 34,
   "metadata": {},
   "outputs": [
    {
     "data": {
      "text/html": [
       "<pre style=\"white-space:pre;overflow-x:auto;line-height:normal;font-family:Menlo,'DejaVu Sans Mono',consolas,'Courier New',monospace\"><span style=\"font-weight: bold\">Model: \"sequential_4\"</span>\n",
       "</pre>\n"
      ],
      "text/plain": [
       "\u001b[1mModel: \"sequential_4\"\u001b[0m\n"
      ]
     },
     "metadata": {},
     "output_type": "display_data"
    },
    {
     "data": {
      "text/html": [
       "<pre style=\"white-space:pre;overflow-x:auto;line-height:normal;font-family:Menlo,'DejaVu Sans Mono',consolas,'Courier New',monospace\">┏━━━━━━━━━━━━━━━━━━━━━━━━━━━━━━━━━┳━━━━━━━━━━━━━━━━━━━━━━━━┳━━━━━━━━━━━━━━━┓\n",
       "┃<span style=\"font-weight: bold\"> Layer (type)                    </span>┃<span style=\"font-weight: bold\"> Output Shape           </span>┃<span style=\"font-weight: bold\">       Param # </span>┃\n",
       "┡━━━━━━━━━━━━━━━━━━━━━━━━━━━━━━━━━╇━━━━━━━━━━━━━━━━━━━━━━━━╇━━━━━━━━━━━━━━━┩\n",
       "│ conv2d_4 (<span style=\"color: #0087ff; text-decoration-color: #0087ff\">Conv2D</span>)               │ (<span style=\"color: #00d7ff; text-decoration-color: #00d7ff\">None</span>, <span style=\"color: #00af00; text-decoration-color: #00af00\">26</span>, <span style=\"color: #00af00; text-decoration-color: #00af00\">26</span>, <span style=\"color: #00af00; text-decoration-color: #00af00\">28</span>)     │           <span style=\"color: #00af00; text-decoration-color: #00af00\">280</span> │\n",
       "├─────────────────────────────────┼────────────────────────┼───────────────┤\n",
       "│ max_pooling2d_4 (<span style=\"color: #0087ff; text-decoration-color: #0087ff\">MaxPooling2D</span>)  │ (<span style=\"color: #00d7ff; text-decoration-color: #00d7ff\">None</span>, <span style=\"color: #00af00; text-decoration-color: #00af00\">13</span>, <span style=\"color: #00af00; text-decoration-color: #00af00\">13</span>, <span style=\"color: #00af00; text-decoration-color: #00af00\">28</span>)     │             <span style=\"color: #00af00; text-decoration-color: #00af00\">0</span> │\n",
       "├─────────────────────────────────┼────────────────────────┼───────────────┤\n",
       "│ flatten_4 (<span style=\"color: #0087ff; text-decoration-color: #0087ff\">Flatten</span>)             │ (<span style=\"color: #00d7ff; text-decoration-color: #00d7ff\">None</span>, <span style=\"color: #00af00; text-decoration-color: #00af00\">4732</span>)           │             <span style=\"color: #00af00; text-decoration-color: #00af00\">0</span> │\n",
       "├─────────────────────────────────┼────────────────────────┼───────────────┤\n",
       "│ dense_8 (<span style=\"color: #0087ff; text-decoration-color: #0087ff\">Dense</span>)                 │ (<span style=\"color: #00d7ff; text-decoration-color: #00d7ff\">None</span>, <span style=\"color: #00af00; text-decoration-color: #00af00\">128</span>)            │       <span style=\"color: #00af00; text-decoration-color: #00af00\">605,824</span> │\n",
       "├─────────────────────────────────┼────────────────────────┼───────────────┤\n",
       "│ dropout_4 (<span style=\"color: #0087ff; text-decoration-color: #0087ff\">Dropout</span>)             │ (<span style=\"color: #00d7ff; text-decoration-color: #00d7ff\">None</span>, <span style=\"color: #00af00; text-decoration-color: #00af00\">128</span>)            │             <span style=\"color: #00af00; text-decoration-color: #00af00\">0</span> │\n",
       "├─────────────────────────────────┼────────────────────────┼───────────────┤\n",
       "│ dense_9 (<span style=\"color: #0087ff; text-decoration-color: #0087ff\">Dense</span>)                 │ (<span style=\"color: #00d7ff; text-decoration-color: #00d7ff\">None</span>, <span style=\"color: #00af00; text-decoration-color: #00af00\">10</span>)             │         <span style=\"color: #00af00; text-decoration-color: #00af00\">1,290</span> │\n",
       "└─────────────────────────────────┴────────────────────────┴───────────────┘\n",
       "</pre>\n"
      ],
      "text/plain": [
       "┏━━━━━━━━━━━━━━━━━━━━━━━━━━━━━━━━━┳━━━━━━━━━━━━━━━━━━━━━━━━┳━━━━━━━━━━━━━━━┓\n",
       "┃\u001b[1m \u001b[0m\u001b[1mLayer (type)                   \u001b[0m\u001b[1m \u001b[0m┃\u001b[1m \u001b[0m\u001b[1mOutput Shape          \u001b[0m\u001b[1m \u001b[0m┃\u001b[1m \u001b[0m\u001b[1m      Param #\u001b[0m\u001b[1m \u001b[0m┃\n",
       "┡━━━━━━━━━━━━━━━━━━━━━━━━━━━━━━━━━╇━━━━━━━━━━━━━━━━━━━━━━━━╇━━━━━━━━━━━━━━━┩\n",
       "│ conv2d_4 (\u001b[38;5;33mConv2D\u001b[0m)               │ (\u001b[38;5;45mNone\u001b[0m, \u001b[38;5;34m26\u001b[0m, \u001b[38;5;34m26\u001b[0m, \u001b[38;5;34m28\u001b[0m)     │           \u001b[38;5;34m280\u001b[0m │\n",
       "├─────────────────────────────────┼────────────────────────┼───────────────┤\n",
       "│ max_pooling2d_4 (\u001b[38;5;33mMaxPooling2D\u001b[0m)  │ (\u001b[38;5;45mNone\u001b[0m, \u001b[38;5;34m13\u001b[0m, \u001b[38;5;34m13\u001b[0m, \u001b[38;5;34m28\u001b[0m)     │             \u001b[38;5;34m0\u001b[0m │\n",
       "├─────────────────────────────────┼────────────────────────┼───────────────┤\n",
       "│ flatten_4 (\u001b[38;5;33mFlatten\u001b[0m)             │ (\u001b[38;5;45mNone\u001b[0m, \u001b[38;5;34m4732\u001b[0m)           │             \u001b[38;5;34m0\u001b[0m │\n",
       "├─────────────────────────────────┼────────────────────────┼───────────────┤\n",
       "│ dense_8 (\u001b[38;5;33mDense\u001b[0m)                 │ (\u001b[38;5;45mNone\u001b[0m, \u001b[38;5;34m128\u001b[0m)            │       \u001b[38;5;34m605,824\u001b[0m │\n",
       "├─────────────────────────────────┼────────────────────────┼───────────────┤\n",
       "│ dropout_4 (\u001b[38;5;33mDropout\u001b[0m)             │ (\u001b[38;5;45mNone\u001b[0m, \u001b[38;5;34m128\u001b[0m)            │             \u001b[38;5;34m0\u001b[0m │\n",
       "├─────────────────────────────────┼────────────────────────┼───────────────┤\n",
       "│ dense_9 (\u001b[38;5;33mDense\u001b[0m)                 │ (\u001b[38;5;45mNone\u001b[0m, \u001b[38;5;34m10\u001b[0m)             │         \u001b[38;5;34m1,290\u001b[0m │\n",
       "└─────────────────────────────────┴────────────────────────┴───────────────┘\n"
      ]
     },
     "metadata": {},
     "output_type": "display_data"
    },
    {
     "data": {
      "text/html": [
       "<pre style=\"white-space:pre;overflow-x:auto;line-height:normal;font-family:Menlo,'DejaVu Sans Mono',consolas,'Courier New',monospace\"><span style=\"font-weight: bold\"> Total params: </span><span style=\"color: #00af00; text-decoration-color: #00af00\">607,394</span> (2.32 MB)\n",
       "</pre>\n"
      ],
      "text/plain": [
       "\u001b[1m Total params: \u001b[0m\u001b[38;5;34m607,394\u001b[0m (2.32 MB)\n"
      ]
     },
     "metadata": {},
     "output_type": "display_data"
    },
    {
     "data": {
      "text/html": [
       "<pre style=\"white-space:pre;overflow-x:auto;line-height:normal;font-family:Menlo,'DejaVu Sans Mono',consolas,'Courier New',monospace\"><span style=\"font-weight: bold\"> Trainable params: </span><span style=\"color: #00af00; text-decoration-color: #00af00\">607,394</span> (2.32 MB)\n",
       "</pre>\n"
      ],
      "text/plain": [
       "\u001b[1m Trainable params: \u001b[0m\u001b[38;5;34m607,394\u001b[0m (2.32 MB)\n"
      ]
     },
     "metadata": {},
     "output_type": "display_data"
    },
    {
     "data": {
      "text/html": [
       "<pre style=\"white-space:pre;overflow-x:auto;line-height:normal;font-family:Menlo,'DejaVu Sans Mono',consolas,'Courier New',monospace\"><span style=\"font-weight: bold\"> Non-trainable params: </span><span style=\"color: #00af00; text-decoration-color: #00af00\">0</span> (0.00 B)\n",
       "</pre>\n"
      ],
      "text/plain": [
       "\u001b[1m Non-trainable params: \u001b[0m\u001b[38;5;34m0\u001b[0m (0.00 B)\n"
      ]
     },
     "metadata": {},
     "output_type": "display_data"
    }
   ],
   "source": [
    "model = mnist_model(input_shape)\n",
    "model.summary()"
   ]
  },
  {
   "cell_type": "code",
   "execution_count": 35,
   "metadata": {},
   "outputs": [
    {
     "name": "stdout",
     "output_type": "stream",
     "text": [
      "Epoch 1/50\n",
      "750/750 - 10s - 13ms/step - accuracy: 0.8221 - loss: 1.0876 - val_accuracy: 0.9360 - val_loss: 0.2626\n",
      "Epoch 2/50\n",
      "750/750 - 8s - 10ms/step - accuracy: 0.9131 - loss: 0.3133 - val_accuracy: 0.9521 - val_loss: 0.2064\n",
      "Epoch 3/50\n",
      "750/750 - 8s - 11ms/step - accuracy: 0.9350 - loss: 0.2261 - val_accuracy: 0.9604 - val_loss: 0.1658\n",
      "Epoch 4/50\n",
      "750/750 - 9s - 11ms/step - accuracy: 0.9498 - loss: 0.1751 - val_accuracy: 0.9643 - val_loss: 0.1514\n",
      "Epoch 5/50\n",
      "750/750 - 10s - 13ms/step - accuracy: 0.9554 - loss: 0.1517 - val_accuracy: 0.9672 - val_loss: 0.1324\n",
      "Epoch 6/50\n",
      "750/750 - 10s - 14ms/step - accuracy: 0.9608 - loss: 0.1323 - val_accuracy: 0.9564 - val_loss: 0.1731\n"
     ]
    }
   ],
   "source": [
    "from tensorflow.keras.callbacks import EarlyStopping\n",
    "\n",
    "early_stopping = EarlyStopping()\n",
    "\n",
    "history_early_stopping = model.fit(\n",
    "                                    x = train_images,\n",
    "                                    y = train_labels,\n",
    "                                    epochs = 50,\n",
    "                                    validation_split = 0.20,\n",
    "                                    batch_size = 64,\n",
    "                                    verbose = 2,\n",
    "                                    callbacks = [early_stopping]\n",
    ")"
   ]
  },
  {
   "cell_type": "code",
   "execution_count": 37,
   "metadata": {},
   "outputs": [
    {
     "data": {
      "image/png": "[encoded data removed]",
      "text/plain": [
       "<Figure size 640x480 with 1 Axes>"
      ]
     },
     "metadata": {},
     "output_type": "display_data"
    }
   ],
   "source": [
    "plotData(history_early_stopping, \"loss\")"
   ]
  },
  {
   "cell_type": "code",
   "execution_count": 42,
   "metadata": {},
   "outputs": [
    {
     "name": "stdout",
     "output_type": "stream",
     "text": [
      "Epoch 1/50\n"
     ]
    },
    {
     "name": "stderr",
     "output_type": "stream",
     "text": [
      "/home/isu-researcher/.local/lib/python3.10/site-packages/keras/src/layers/convolutional/base_conv.py:107: UserWarning: Do not pass an `input_shape`/`input_dim` argument to a layer. When using Sequential models, prefer using an `Input(shape)` object as the first layer in the model instead.\n",
      "  super().__init__(activity_regularizer=activity_regularizer, **kwargs)\n"
     ]
    },
    {
     "name": "stdout",
     "output_type": "stream",
     "text": [
      "750/750 - 11s - 15ms/step - accuracy: 0.8274 - loss: 1.2474 - val_accuracy: 0.9197 - val_loss: 0.3273\n",
      "Epoch 2/50\n"
     ]
    },
    {
     "name": "stderr",
     "output_type": "stream",
     "text": [
      "/home/isu-researcher/.local/lib/python3.10/site-packages/keras/src/callbacks/early_stopping.py:155: UserWarning: Early stopping conditioned on metric `vall_accuracy` which is not available. Available metrics are: accuracy,loss,val_accuracy,val_loss\n",
      "  current = self.get_monitor_value(logs)\n"
     ]
    },
    {
     "name": "stdout",
     "output_type": "stream",
     "text": [
      "750/750 - 9s - 12ms/step - accuracy: 0.9084 - loss: 0.3406 - val_accuracy: 0.9495 - val_loss: 0.1993\n",
      "Epoch 3/50\n",
      "750/750 - 10s - 13ms/step - accuracy: 0.9351 - loss: 0.2337 - val_accuracy: 0.9643 - val_loss: 0.1710\n",
      "Epoch 4/50\n",
      "750/750 - 10s - 13ms/step - accuracy: 0.9435 - loss: 0.1969 - val_accuracy: 0.9631 - val_loss: 0.1477\n",
      "Epoch 5/50\n",
      "750/750 - 10s - 13ms/step - accuracy: 0.9520 - loss: 0.1672 - val_accuracy: 0.9689 - val_loss: 0.1347\n",
      "Epoch 6/50\n",
      "750/750 - 9s - 12ms/step - accuracy: 0.9559 - loss: 0.1520 - val_accuracy: 0.9702 - val_loss: 0.1494\n",
      "Epoch 7/50\n",
      "750/750 - 9s - 12ms/step - accuracy: 0.9580 - loss: 0.1449 - val_accuracy: 0.9649 - val_loss: 0.1686\n",
      "Epoch 8/50\n",
      "750/750 - 9s - 12ms/step - accuracy: 0.9628 - loss: 0.1302 - val_accuracy: 0.9749 - val_loss: 0.1171\n",
      "Epoch 9/50\n",
      "750/750 - 10s - 13ms/step - accuracy: 0.9643 - loss: 0.1257 - val_accuracy: 0.9730 - val_loss: 0.1145\n",
      "Epoch 10/50\n",
      "750/750 - 9s - 12ms/step - accuracy: 0.9669 - loss: 0.1199 - val_accuracy: 0.9737 - val_loss: 0.1189\n",
      "Epoch 11/50\n",
      "750/750 - 11s - 14ms/step - accuracy: 0.9678 - loss: 0.1108 - val_accuracy: 0.9720 - val_loss: 0.1365\n",
      "Epoch 12/50\n",
      "750/750 - 10s - 14ms/step - accuracy: 0.9684 - loss: 0.1170 - val_accuracy: 0.9756 - val_loss: 0.1100\n",
      "Epoch 13/50\n",
      "750/750 - 11s - 14ms/step - accuracy: 0.9715 - loss: 0.0991 - val_accuracy: 0.9750 - val_loss: 0.1239\n",
      "Epoch 14/50\n",
      "750/750 - 10s - 14ms/step - accuracy: 0.9723 - loss: 0.0995 - val_accuracy: 0.9722 - val_loss: 0.1230\n",
      "Epoch 15/50\n",
      "750/750 - 10s - 14ms/step - accuracy: 0.9740 - loss: 0.0883 - val_accuracy: 0.9761 - val_loss: 0.1367\n",
      "Epoch 16/50\n",
      "750/750 - 11s - 15ms/step - accuracy: 0.9765 - loss: 0.0837 - val_accuracy: 0.9722 - val_loss: 0.1343\n",
      "Epoch 17/50\n",
      "750/750 - 11s - 15ms/step - accuracy: 0.9747 - loss: 0.0895 - val_accuracy: 0.9752 - val_loss: 0.1282\n",
      "Epoch 18/50\n",
      "750/750 - 10s - 14ms/step - accuracy: 0.9758 - loss: 0.0862 - val_accuracy: 0.9725 - val_loss: 0.1685\n",
      "Epoch 19/50\n",
      "750/750 - 10s - 13ms/step - accuracy: 0.9771 - loss: 0.0856 - val_accuracy: 0.9743 - val_loss: 0.1591\n",
      "Epoch 20/50\n",
      "750/750 - 11s - 14ms/step - accuracy: 0.9767 - loss: 0.0844 - val_accuracy: 0.9746 - val_loss: 0.1315\n",
      "Epoch 21/50\n",
      "750/750 - 11s - 14ms/step - accuracy: 0.9792 - loss: 0.0778 - val_accuracy: 0.9783 - val_loss: 0.1575\n",
      "Epoch 22/50\n",
      "750/750 - 10s - 13ms/step - accuracy: 0.9787 - loss: 0.0810 - val_accuracy: 0.9733 - val_loss: 0.1607\n",
      "Epoch 23/50\n",
      "750/750 - 10s - 14ms/step - accuracy: 0.9780 - loss: 0.0841 - val_accuracy: 0.9783 - val_loss: 0.1417\n",
      "Epoch 24/50\n",
      "750/750 - 10s - 13ms/step - accuracy: 0.9797 - loss: 0.0751 - val_accuracy: 0.9778 - val_loss: 0.1627\n",
      "Epoch 25/50\n",
      "750/750 - 11s - 15ms/step - accuracy: 0.9791 - loss: 0.0781 - val_accuracy: 0.9760 - val_loss: 0.1685\n",
      "Epoch 26/50\n",
      "750/750 - 10s - 14ms/step - accuracy: 0.9778 - loss: 0.0856 - val_accuracy: 0.9726 - val_loss: 0.2080\n",
      "Epoch 27/50\n",
      "750/750 - 10s - 13ms/step - accuracy: 0.9810 - loss: 0.0730 - val_accuracy: 0.9746 - val_loss: 0.1966\n",
      "Epoch 28/50\n",
      "750/750 - 11s - 14ms/step - accuracy: 0.9816 - loss: 0.0723 - val_accuracy: 0.9774 - val_loss: 0.1745\n",
      "Epoch 29/50\n",
      "750/750 - 10s - 13ms/step - accuracy: 0.9813 - loss: 0.0733 - val_accuracy: 0.9758 - val_loss: 0.1998\n",
      "Epoch 30/50\n",
      "750/750 - 9s - 12ms/step - accuracy: 0.9793 - loss: 0.0789 - val_accuracy: 0.9746 - val_loss: 0.1602\n",
      "Epoch 31/50\n",
      "750/750 - 9s - 12ms/step - accuracy: 0.9834 - loss: 0.0671 - val_accuracy: 0.9742 - val_loss: 0.1792\n",
      "Epoch 32/50\n",
      "750/750 - 11s - 15ms/step - accuracy: 0.9821 - loss: 0.0741 - val_accuracy: 0.9748 - val_loss: 0.2024\n",
      "Epoch 33/50\n",
      "750/750 - 10s - 14ms/step - accuracy: 0.9837 - loss: 0.0615 - val_accuracy: 0.9771 - val_loss: 0.2096\n",
      "Epoch 34/50\n",
      "750/750 - 11s - 15ms/step - accuracy: 0.9828 - loss: 0.0678 - val_accuracy: 0.9750 - val_loss: 0.1941\n",
      "Epoch 35/50\n",
      "750/750 - 11s - 15ms/step - accuracy: 0.9835 - loss: 0.0661 - val_accuracy: 0.9768 - val_loss: 0.2104\n",
      "Epoch 36/50\n",
      "750/750 - 11s - 15ms/step - accuracy: 0.9835 - loss: 0.0630 - val_accuracy: 0.9768 - val_loss: 0.2183\n",
      "Epoch 37/50\n",
      "750/750 - 11s - 15ms/step - accuracy: 0.9829 - loss: 0.0660 - val_accuracy: 0.9763 - val_loss: 0.2407\n",
      "Epoch 38/50\n",
      "750/750 - 11s - 14ms/step - accuracy: 0.9826 - loss: 0.0724 - val_accuracy: 0.9746 - val_loss: 0.2157\n",
      "Epoch 39/50\n",
      "750/750 - 9s - 13ms/step - accuracy: 0.9802 - loss: 0.0812 - val_accuracy: 0.9765 - val_loss: 0.2005\n",
      "Epoch 40/50\n",
      "750/750 - 11s - 15ms/step - accuracy: 0.9844 - loss: 0.0653 - val_accuracy: 0.9770 - val_loss: 0.1941\n",
      "Epoch 41/50\n",
      "750/750 - 11s - 14ms/step - accuracy: 0.9835 - loss: 0.0723 - val_accuracy: 0.9749 - val_loss: 0.2182\n",
      "Epoch 42/50\n",
      "750/750 - 10s - 14ms/step - accuracy: 0.9846 - loss: 0.0608 - val_accuracy: 0.9760 - val_loss: 0.2195\n",
      "Epoch 43/50\n",
      "750/750 - 10s - 14ms/step - accuracy: 0.9845 - loss: 0.0631 - val_accuracy: 0.9742 - val_loss: 0.2626\n",
      "Epoch 44/50\n",
      "750/750 - 10s - 13ms/step - accuracy: 0.9827 - loss: 0.0776 - val_accuracy: 0.9729 - val_loss: 0.2040\n",
      "Epoch 45/50\n",
      "750/750 - 10s - 14ms/step - accuracy: 0.9853 - loss: 0.0608 - val_accuracy: 0.9761 - val_loss: 0.1949\n",
      "Epoch 46/50\n",
      "750/750 - 10s - 14ms/step - accuracy: 0.9833 - loss: 0.0679 - val_accuracy: 0.9767 - val_loss: 0.1935\n",
      "Epoch 47/50\n",
      "750/750 - 10s - 13ms/step - accuracy: 0.9829 - loss: 0.0700 - val_accuracy: 0.9750 - val_loss: 0.2633\n",
      "Epoch 48/50\n",
      "750/750 - 9s - 12ms/step - accuracy: 0.9851 - loss: 0.0621 - val_accuracy: 0.9778 - val_loss: 0.2382\n",
      "Epoch 49/50\n",
      "750/750 - 10s - 13ms/step - accuracy: 0.9850 - loss: 0.0700 - val_accuracy: 0.9774 - val_loss: 0.2510\n",
      "Epoch 50/50\n",
      "750/750 - 10s - 13ms/step - accuracy: 0.9846 - loss: 0.0673 - val_accuracy: 0.9786 - val_loss: 0.2238\n"
     ]
    }
   ],
   "source": [
    "model = mnist_model(input_shape)\n",
    "\n",
    "early_stopping_1 = EarlyStopping(\n",
    "    monitor = \"vall_accuracy\",\n",
    "    patience = 3, #herhangi bir gelisme olms. dahi egitime +3 adim daha devam eder\n",
    "    min_delta = 0.001, #kabul edebilecegi min. iyilesme orani ->0.001\n",
    "    mode =\"min\", #auto\n",
    ")\n",
    "\n",
    "history_early_stopping_1 = model.fit(\n",
    "                                    x = train_images,\n",
    "                                    y = train_labels,\n",
    "                                    epochs = 50,\n",
    "                                    validation_split = 0.2,\n",
    "                                    batch_size = 64,\n",
    "                                    verbose = 2,\n",
    "                                    callbacks = [early_stopping_1]\n",
    ")\n"
   ]
  },
  {
   "cell_type": "code",
   "execution_count": 43,
   "metadata": {},
   "outputs": [
    {
     "data": {
      "image/png": "[encoded data removed]",
      "text/plain": [
       "<Figure size 640x480 with 1 Axes>"
      ]
     },
     "metadata": {},
     "output_type": "display_data"
    }
   ],
   "source": [
    "plotData(history_early_stopping_1,\"accuracy\")"
   ]
  },
  {
   "cell_type": "code",
   "execution_count": 45,
   "metadata": {},
   "outputs": [
    {
     "name": "stdout",
     "output_type": "stream",
     "text": [
      "Epoch 1/20\n",
      "750/750 - 12s - 16ms/step - accuracy: 0.8481 - loss: 0.8825 - val_accuracy: 0.9375 - val_loss: 0.2663\n",
      "Epoch 2/20\n",
      "750/750 - 10s - 13ms/step - accuracy: 0.9284 - loss: 0.2646 - val_accuracy: 0.9603 - val_loss: 0.1904\n",
      "Epoch 3/20\n",
      "750/750 - 9s - 13ms/step - accuracy: 0.9484 - loss: 0.1778 - val_accuracy: 0.9615 - val_loss: 0.1689\n",
      "Epoch 4/20\n",
      "750/750 - 9s - 13ms/step - accuracy: 0.9581 - loss: 0.1455 - val_accuracy: 0.9640 - val_loss: 0.1444\n",
      "Epoch 5/20\n",
      "750/750 - 10s - 14ms/step - accuracy: 0.9612 - loss: 0.1325 - val_accuracy: 0.9706 - val_loss: 0.1278\n",
      "Epoch 6/20\n",
      "750/750 - 9s - 12ms/step - accuracy: 0.9657 - loss: 0.1198 - val_accuracy: 0.9722 - val_loss: 0.1166\n",
      "Epoch 7/20\n",
      "750/750 - 10s - 13ms/step - accuracy: 0.9672 - loss: 0.1131 - val_accuracy: 0.9723 - val_loss: 0.1354\n",
      "Epoch 8/20\n",
      "750/750 - 8s - 10ms/step - accuracy: 0.9716 - loss: 0.0976 - val_accuracy: 0.9677 - val_loss: 0.1346\n",
      "Epoch 9/20\n",
      "750/750 - 8s - 10ms/step - accuracy: 0.9711 - loss: 0.1021 - val_accuracy: 0.9705 - val_loss: 0.1363\n",
      "Epoch 10/20\n",
      "750/750 - 8s - 10ms/step - accuracy: 0.9734 - loss: 0.0939 - val_accuracy: 0.9703 - val_loss: 0.1479\n",
      "Epoch 11/20\n",
      "750/750 - 13s - 17ms/step - accuracy: 0.9738 - loss: 0.0914 - val_accuracy: 0.9746 - val_loss: 0.1253\n",
      "Epoch 12/20\n",
      "750/750 - 16s - 22ms/step - accuracy: 0.9758 - loss: 0.0860 - val_accuracy: 0.9725 - val_loss: 0.1467\n",
      "Epoch 13/20\n",
      "750/750 - 16s - 22ms/step - accuracy: 0.9758 - loss: 0.0849 - val_accuracy: 0.9732 - val_loss: 0.1422\n",
      "Epoch 14/20\n",
      "750/750 - 12s - 16ms/step - accuracy: 0.9775 - loss: 0.0828 - val_accuracy: 0.9727 - val_loss: 0.1627\n",
      "Epoch 15/20\n",
      "750/750 - 7s - 10ms/step - accuracy: 0.9773 - loss: 0.0845 - val_accuracy: 0.9791 - val_loss: 0.1216\n",
      "Epoch 16/20\n",
      "750/750 - 7s - 10ms/step - accuracy: 0.9824 - loss: 0.0638 - val_accuracy: 0.9772 - val_loss: 0.1484\n",
      "Epoch 17/20\n",
      "750/750 - 7s - 10ms/step - accuracy: 0.9799 - loss: 0.0734 - val_accuracy: 0.9746 - val_loss: 0.1450\n",
      "Epoch 18/20\n",
      "750/750 - 7s - 10ms/step - accuracy: 0.9783 - loss: 0.0826 - val_accuracy: 0.9714 - val_loss: 0.1570\n",
      "Epoch 19/20\n",
      "750/750 - 7s - 10ms/step - accuracy: 0.9823 - loss: 0.0700 - val_accuracy: 0.9769 - val_loss: 0.1479\n",
      "Epoch 20/20\n",
      "750/750 - 7s - 10ms/step - accuracy: 0.9816 - loss: 0.0693 - val_accuracy: 0.9767 - val_loss: 0.1558\n"
     ]
    }
   ],
   "source": [
    "from keras.callbacks import CSVLogger\n",
    "\n",
    "csv = CSVLogger(\"logs/result.csv\")\n",
    "model = mnist_model(input_shape)\n",
    "\n",
    "history_csv_logger = model.fit(\n",
    "                               x = train_images,\n",
    "                               y = train_labels,\n",
    "                               epochs = 20,\n",
    "                               validation_split = 0.20,\n",
    "                               batch_size = 64,\n",
    "                               verbose = 2,\n",
    "                               callbacks = [csv]\n",
    "                               )"
   ]
  },
  {
   "cell_type": "code",
   "execution_count": 50,
   "metadata": {},
   "outputs": [
    {
     "name": "stdout",
     "output_type": "stream",
     "text": [
      "Defaulting to user installation because normal site-packages is not writeable\n",
      "Requirement already satisfied: pandas in /home/isu-researcher/.local/lib/python3.10/site-packages (2.2.2)\n",
      "Requirement already satisfied: numpy>=1.22.4 in /home/isu-researcher/.local/lib/python3.10/site-packages (from pandas) (1.26.4)\n",
      "Requirement already satisfied: python-dateutil>=2.8.2 in /home/isu-researcher/.local/lib/python3.10/site-packages (from pandas) (2.9.0.post0)\n",
      "Requirement already satisfied: pytz>=2020.1 in /usr/lib/python3/dist-packages (from pandas) (2022.1)\n",
      "Requirement already satisfied: tzdata>=2022.7 in /home/isu-researcher/.local/lib/python3.10/site-packages (from pandas) (2024.1)\n",
      "Requirement already satisfied: six>=1.5 in /usr/lib/python3/dist-packages (from python-dateutil>=2.8.2->pandas) (1.16.0)\n",
      "Note: you may need to restart the kernel to use updated packages.\n",
      "ERROR: unknown command \"upgrade\"\n",
      "Note: you may need to restart the kernel to use updated packages.\n"
     ]
    }
   ],
   "source": [
    "%pip install pandas\n",
    "%pip upgrade"
   ]
  },
  {
   "cell_type": "code",
   "execution_count": 48,
   "metadata": {},
   "outputs": [
    {
     "ename": "NameError",
     "evalue": "name 'pd' is not defined",
     "output_type": "error",
     "traceback": [
      "\u001b[0;31m---------------------------------------------------------------------------\u001b[0m",
      "\u001b[0;31mNameError\u001b[0m                                 Traceback (most recent call last)",
      "Cell \u001b[0;32mIn[48], line 3\u001b[0m\n\u001b[1;32m      1\u001b[0m \u001b[38;5;28;01mimport\u001b[39;00m \u001b[38;5;21;01mpandas\u001b[39;00m \u001b[38;5;28;01mas\u001b[39;00m \u001b[38;5;21;01mpc\u001b[39;00m\n\u001b[0;32m----> 3\u001b[0m \u001b[43mpd\u001b[49m\u001b[38;5;241m.\u001b[39mread_csv(\u001b[38;5;124m\"\u001b[39m\u001b[38;5;124mlogs/result.csv\u001b[39m\u001b[38;5;124m\"\u001b[39m, index_col\u001b[38;5;241m=\u001b[39m\u001b[38;5;124m\"\u001b[39m\u001b[38;5;124mepoch\u001b[39m\u001b[38;5;124m\"\u001b[39m)\n",
      "\u001b[0;31mNameError\u001b[0m: name 'pd' is not defined"
     ]
    }
   ],
   "source": [
    "import pandas as pc\n",
    "\n",
    "pd.read_csv(\"logs/result.csv\", index_col=\"epoch\")"
   ]
  }
 ],
 "metadata": {
  "kernelspec": {
   "display_name": "Python 3",
   "language": "python",
   "name": "python3"
  },
  "language_info": {
   "codemirror_mode": {
    "name": "ipython",
    "version": 3
   },
   "file_extension": ".py",
   "mimetype": "text/x-python",
   "name": "python",
   "nbconvert_exporter": "python",
   "pygments_lexer": "ipython3",
   "version": "3.10.12"
  }
 },
 "nbformat": 4,
 "nbformat_minor": 2
}
