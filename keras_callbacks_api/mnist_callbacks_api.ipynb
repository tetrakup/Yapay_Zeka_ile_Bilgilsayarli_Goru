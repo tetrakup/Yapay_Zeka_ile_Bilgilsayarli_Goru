{
 "cells": [
  {
   "cell_type": "code",
   "execution_count": 30,
   "metadata": {},
   "outputs": [],
   "source": [
    "import keras\n",
    "import tensorflow as tf\n",
    "import matplotlib.pyplot as plt\n"
   ]
  },
  {
   "cell_type": "code",
   "execution_count": 31,
   "metadata": {},
   "outputs": [],
   "source": [
    "input_shape =(28,28,1)"
   ]
  },
  {
   "cell_type": "code",
   "execution_count": 32,
   "metadata": {},
   "outputs": [],
   "source": [
    "def plotData(history, metric):\n",
    "    train_metrics = history.history[metric]\n",
    "    validation_metrics = history.history[\"val_\"+metric]\n",
    "\n",
    "    epochs = range(1, len(train_metrics)+1)\n",
    "\n",
    "    plt.plot(epochs, train_metrics)\n",
    "    plt.plot(epochs, validation_metrics)\n",
    "\n",
    "    plt.title(\"Training&Validation\"+metric)\n",
    "\n",
    "    plt.xlabel(\"Epochs\")\n",
    "    plt.ylabel(metric)\n",
    "    plt.legend([\"train_\"+metric,\"val_\"+metric])\n",
    "\n",
    "    plt.show()"
   ]
  },
  {
   "cell_type": "code",
   "execution_count": 33,
   "metadata": {},
   "outputs": [],
   "source": [
    "def pltLR(history):\n",
    "    learning_rate = history.history[\"lr\"]\n",
    "    epochs = range(1, len(learning_rate)+1)\n",
    "\n",
    "    plt.plot(epochs, learning_rate)\n",
    "\n",
    "    plt.title(\"Learning Rate\")\n",
    "\n",
    "    plt.xlabel(\"Epochs\")\n",
    "    plt.ylabel(\"Learning Rate\")\n",
    "\n",
    "    plt.show()"
   ]
  },
  {
   "cell_type": "code",
   "execution_count": 34,
   "metadata": {},
   "outputs": [
    {
     "name": "stdout",
     "output_type": "stream",
     "text": [
      "Shape of Train Images: (60000, 28, 28)\n",
      "Shape of Test Images: (10000, 28, 28)\n"
     ]
    }
   ],
   "source": [
    "from keras.datasets import mnist\n",
    "\n",
    "(train_images, train_labels) = mnist.load_data()[0]\n",
    "(test_images, test_labels) = mnist.load_data()[1]\n",
    "\n",
    "print(\"Shape of Train Images:\", train_images.shape)\n",
    "print(\"Shape of Test Images:\", test_images.shape)"
   ]
  },
  {
   "cell_type": "code",
   "execution_count": 35,
   "metadata": {},
   "outputs": [],
   "source": [
    "from keras.models import Sequential\n",
    "from keras.layers import Conv2D, Dense, Dropout, Flatten, MaxPooling2D\n",
    "\n",
    "def mnist_model(input_shape):\n",
    "    model = Sequential([Conv2D(28, kernel_size =(3,3), input_shape=input_shape),\n",
    "                        MaxPooling2D(pool_size=(2,2)),\n",
    "                        Flatten(),\n",
    "                        Dense(128, activation=\"relu\"),\n",
    "                        Dropout(0.2),\n",
    "                        Dense(10, activation=\"softmax\"),\n",
    "                        ])\n",
    "    model.compile(\n",
    "                  optimizer=\"adam\",\n",
    "                  loss=\"sparse_categorical_crossentropy\",\n",
    "                  metrics=[\"accuracy\"]\n",
    "                  )\n",
    "    \n",
    "    return model"
   ]
  },
  {
   "cell_type": "code",
   "execution_count": 36,
   "metadata": {},
   "outputs": [
    {
     "data": {
      "text/html": [
       "<pre style=\"white-space:pre;overflow-x:auto;line-height:normal;font-family:Menlo,'DejaVu Sans Mono',consolas,'Courier New',monospace\"><span style=\"font-weight: bold\">Model: \"sequential_2\"</span>\n",
       "</pre>\n"
      ],
      "text/plain": [
       "\u001b[1mModel: \"sequential_2\"\u001b[0m\n"
      ]
     },
     "metadata": {},
     "output_type": "display_data"
    },
    {
     "data": {
      "text/html": [
       "<pre style=\"white-space:pre;overflow-x:auto;line-height:normal;font-family:Menlo,'DejaVu Sans Mono',consolas,'Courier New',monospace\">┏━━━━━━━━━━━━━━━━━━━━━━━━━━━━━━━━━┳━━━━━━━━━━━━━━━━━━━━━━━━┳━━━━━━━━━━━━━━━┓\n",
       "┃<span style=\"font-weight: bold\"> Layer (type)                    </span>┃<span style=\"font-weight: bold\"> Output Shape           </span>┃<span style=\"font-weight: bold\">       Param # </span>┃\n",
       "┡━━━━━━━━━━━━━━━━━━━━━━━━━━━━━━━━━╇━━━━━━━━━━━━━━━━━━━━━━━━╇━━━━━━━━━━━━━━━┩\n",
       "│ conv2d_2 (<span style=\"color: #0087ff; text-decoration-color: #0087ff\">Conv2D</span>)               │ (<span style=\"color: #00d7ff; text-decoration-color: #00d7ff\">None</span>, <span style=\"color: #00af00; text-decoration-color: #00af00\">26</span>, <span style=\"color: #00af00; text-decoration-color: #00af00\">26</span>, <span style=\"color: #00af00; text-decoration-color: #00af00\">28</span>)     │           <span style=\"color: #00af00; text-decoration-color: #00af00\">280</span> │\n",
       "├─────────────────────────────────┼────────────────────────┼───────────────┤\n",
       "│ max_pooling2d_2 (<span style=\"color: #0087ff; text-decoration-color: #0087ff\">MaxPooling2D</span>)  │ (<span style=\"color: #00d7ff; text-decoration-color: #00d7ff\">None</span>, <span style=\"color: #00af00; text-decoration-color: #00af00\">13</span>, <span style=\"color: #00af00; text-decoration-color: #00af00\">13</span>, <span style=\"color: #00af00; text-decoration-color: #00af00\">28</span>)     │             <span style=\"color: #00af00; text-decoration-color: #00af00\">0</span> │\n",
       "├─────────────────────────────────┼────────────────────────┼───────────────┤\n",
       "│ flatten_2 (<span style=\"color: #0087ff; text-decoration-color: #0087ff\">Flatten</span>)             │ (<span style=\"color: #00d7ff; text-decoration-color: #00d7ff\">None</span>, <span style=\"color: #00af00; text-decoration-color: #00af00\">4732</span>)           │             <span style=\"color: #00af00; text-decoration-color: #00af00\">0</span> │\n",
       "├─────────────────────────────────┼────────────────────────┼───────────────┤\n",
       "│ dense_4 (<span style=\"color: #0087ff; text-decoration-color: #0087ff\">Dense</span>)                 │ (<span style=\"color: #00d7ff; text-decoration-color: #00d7ff\">None</span>, <span style=\"color: #00af00; text-decoration-color: #00af00\">128</span>)            │       <span style=\"color: #00af00; text-decoration-color: #00af00\">605,824</span> │\n",
       "├─────────────────────────────────┼────────────────────────┼───────────────┤\n",
       "│ dropout_2 (<span style=\"color: #0087ff; text-decoration-color: #0087ff\">Dropout</span>)             │ (<span style=\"color: #00d7ff; text-decoration-color: #00d7ff\">None</span>, <span style=\"color: #00af00; text-decoration-color: #00af00\">128</span>)            │             <span style=\"color: #00af00; text-decoration-color: #00af00\">0</span> │\n",
       "├─────────────────────────────────┼────────────────────────┼───────────────┤\n",
       "│ dense_5 (<span style=\"color: #0087ff; text-decoration-color: #0087ff\">Dense</span>)                 │ (<span style=\"color: #00d7ff; text-decoration-color: #00d7ff\">None</span>, <span style=\"color: #00af00; text-decoration-color: #00af00\">10</span>)             │         <span style=\"color: #00af00; text-decoration-color: #00af00\">1,290</span> │\n",
       "└─────────────────────────────────┴────────────────────────┴───────────────┘\n",
       "</pre>\n"
      ],
      "text/plain": [
       "┏━━━━━━━━━━━━━━━━━━━━━━━━━━━━━━━━━┳━━━━━━━━━━━━━━━━━━━━━━━━┳━━━━━━━━━━━━━━━┓\n",
       "┃\u001b[1m \u001b[0m\u001b[1mLayer (type)                   \u001b[0m\u001b[1m \u001b[0m┃\u001b[1m \u001b[0m\u001b[1mOutput Shape          \u001b[0m\u001b[1m \u001b[0m┃\u001b[1m \u001b[0m\u001b[1m      Param #\u001b[0m\u001b[1m \u001b[0m┃\n",
       "┡━━━━━━━━━━━━━━━━━━━━━━━━━━━━━━━━━╇━━━━━━━━━━━━━━━━━━━━━━━━╇━━━━━━━━━━━━━━━┩\n",
       "│ conv2d_2 (\u001b[38;5;33mConv2D\u001b[0m)               │ (\u001b[38;5;45mNone\u001b[0m, \u001b[38;5;34m26\u001b[0m, \u001b[38;5;34m26\u001b[0m, \u001b[38;5;34m28\u001b[0m)     │           \u001b[38;5;34m280\u001b[0m │\n",
       "├─────────────────────────────────┼────────────────────────┼───────────────┤\n",
       "│ max_pooling2d_2 (\u001b[38;5;33mMaxPooling2D\u001b[0m)  │ (\u001b[38;5;45mNone\u001b[0m, \u001b[38;5;34m13\u001b[0m, \u001b[38;5;34m13\u001b[0m, \u001b[38;5;34m28\u001b[0m)     │             \u001b[38;5;34m0\u001b[0m │\n",
       "├─────────────────────────────────┼────────────────────────┼───────────────┤\n",
       "│ flatten_2 (\u001b[38;5;33mFlatten\u001b[0m)             │ (\u001b[38;5;45mNone\u001b[0m, \u001b[38;5;34m4732\u001b[0m)           │             \u001b[38;5;34m0\u001b[0m │\n",
       "├─────────────────────────────────┼────────────────────────┼───────────────┤\n",
       "│ dense_4 (\u001b[38;5;33mDense\u001b[0m)                 │ (\u001b[38;5;45mNone\u001b[0m, \u001b[38;5;34m128\u001b[0m)            │       \u001b[38;5;34m605,824\u001b[0m │\n",
       "├─────────────────────────────────┼────────────────────────┼───────────────┤\n",
       "│ dropout_2 (\u001b[38;5;33mDropout\u001b[0m)             │ (\u001b[38;5;45mNone\u001b[0m, \u001b[38;5;34m128\u001b[0m)            │             \u001b[38;5;34m0\u001b[0m │\n",
       "├─────────────────────────────────┼────────────────────────┼───────────────┤\n",
       "│ dense_5 (\u001b[38;5;33mDense\u001b[0m)                 │ (\u001b[38;5;45mNone\u001b[0m, \u001b[38;5;34m10\u001b[0m)             │         \u001b[38;5;34m1,290\u001b[0m │\n",
       "└─────────────────────────────────┴────────────────────────┴───────────────┘\n"
      ]
     },
     "metadata": {},
     "output_type": "display_data"
    },
    {
     "data": {
      "text/html": [
       "<pre style=\"white-space:pre;overflow-x:auto;line-height:normal;font-family:Menlo,'DejaVu Sans Mono',consolas,'Courier New',monospace\"><span style=\"font-weight: bold\"> Total params: </span><span style=\"color: #00af00; text-decoration-color: #00af00\">607,394</span> (2.32 MB)\n",
       "</pre>\n"
      ],
      "text/plain": [
       "\u001b[1m Total params: \u001b[0m\u001b[38;5;34m607,394\u001b[0m (2.32 MB)\n"
      ]
     },
     "metadata": {},
     "output_type": "display_data"
    },
    {
     "data": {
      "text/html": [
       "<pre style=\"white-space:pre;overflow-x:auto;line-height:normal;font-family:Menlo,'DejaVu Sans Mono',consolas,'Courier New',monospace\"><span style=\"font-weight: bold\"> Trainable params: </span><span style=\"color: #00af00; text-decoration-color: #00af00\">607,394</span> (2.32 MB)\n",
       "</pre>\n"
      ],
      "text/plain": [
       "\u001b[1m Trainable params: \u001b[0m\u001b[38;5;34m607,394\u001b[0m (2.32 MB)\n"
      ]
     },
     "metadata": {},
     "output_type": "display_data"
    },
    {
     "data": {
      "text/html": [
       "<pre style=\"white-space:pre;overflow-x:auto;line-height:normal;font-family:Menlo,'DejaVu Sans Mono',consolas,'Courier New',monospace\"><span style=\"font-weight: bold\"> Non-trainable params: </span><span style=\"color: #00af00; text-decoration-color: #00af00\">0</span> (0.00 B)\n",
       "</pre>\n"
      ],
      "text/plain": [
       "\u001b[1m Non-trainable params: \u001b[0m\u001b[38;5;34m0\u001b[0m (0.00 B)\n"
      ]
     },
     "metadata": {},
     "output_type": "display_data"
    }
   ],
   "source": [
    "model = mnist_model(input_shape)\n",
    "model.summary()"
   ]
  },
  {
   "cell_type": "code",
   "execution_count": 37,
   "metadata": {},
   "outputs": [
    {
     "name": "stdout",
     "output_type": "stream",
     "text": [
      "Epoch 1/50\n",
      "750/750 - 10s - 13ms/step - accuracy: 0.8192 - loss: 1.0848 - val_accuracy: 0.9302 - val_loss: 0.2682\n",
      "Epoch 2/50\n",
      "750/750 - 9s - 12ms/step - accuracy: 0.9059 - loss: 0.3317 - val_accuracy: 0.9478 - val_loss: 0.2051\n",
      "Epoch 3/50\n",
      "750/750 - 10s - 13ms/step - accuracy: 0.9337 - loss: 0.2315 - val_accuracy: 0.9613 - val_loss: 0.1597\n",
      "Epoch 4/50\n",
      "750/750 - 7s - 9ms/step - accuracy: 0.9456 - loss: 0.1874 - val_accuracy: 0.9690 - val_loss: 0.1468\n",
      "Epoch 5/50\n",
      "750/750 - 7s - 9ms/step - accuracy: 0.9543 - loss: 0.1579 - val_accuracy: 0.9684 - val_loss: 0.1346\n",
      "Epoch 6/50\n",
      "750/750 - 6s - 8ms/step - accuracy: 0.9573 - loss: 0.1479 - val_accuracy: 0.9689 - val_loss: 0.1437\n"
     ]
    }
   ],
   "source": [
    "from tensorflow.keras.callbacks import EarlyStopping\n",
    "\n",
    "early_stopping = EarlyStopping()\n",
    "\n",
    "history_early_stopping = model.fit(\n",
    "                                    x = train_images,\n",
    "                                    y = train_labels,\n",
    "                                    epochs = 50,\n",
    "                                    validation_split = 0.20,\n",
    "                                    batch_size = 64,\n",
    "                                    verbose = 2,\n",
    "                                    callbacks = [early_stopping]\n",
    ")"
   ]
  },
  {
   "cell_type": "code",
   "execution_count": 38,
   "metadata": {},
   "outputs": [
    {
     "data": {
      "image/png": "[encoded data removed]",
      "text/plain": [
       "<Figure size 640x480 with 1 Axes>"
      ]
     },
     "metadata": {},
     "output_type": "display_data"
    }
   ],
   "source": [
    "plotData(history_early_stopping, \"loss\")"
   ]
  },
  {
   "cell_type": "code",
   "execution_count": 39,
   "metadata": {},
   "outputs": [
    {
     "name": "stdout",
     "output_type": "stream",
     "text": [
      "Epoch 1/50\n",
      "750/750 - 8s - 10ms/step - accuracy: 0.8443 - loss: 0.8890 - val_accuracy: 0.9356 - val_loss: 0.2523\n",
      "Epoch 2/50\n"
     ]
    },
    {
     "name": "stderr",
     "output_type": "stream",
     "text": [
      "/home/isu-researcher/.local/lib/python3.10/site-packages/keras/src/callbacks/early_stopping.py:155: UserWarning: Early stopping conditioned on metric `vall_accuracy` which is not available. Available metrics are: accuracy,loss,val_accuracy,val_loss\n",
      "  current = self.get_monitor_value(logs)\n"
     ]
    },
    {
     "name": "stdout",
     "output_type": "stream",
     "text": [
      "750/750 - 6s - 8ms/step - accuracy: 0.9256 - loss: 0.2699 - val_accuracy: 0.9591 - val_loss: 0.1588\n",
      "Epoch 3/50\n",
      "750/750 - 7s - 9ms/step - accuracy: 0.9450 - loss: 0.1871 - val_accuracy: 0.9647 - val_loss: 0.1380\n",
      "Epoch 4/50\n",
      "750/750 - 9s - 12ms/step - accuracy: 0.9545 - loss: 0.1542 - val_accuracy: 0.9682 - val_loss: 0.1275\n",
      "Epoch 5/50\n",
      "750/750 - 10s - 13ms/step - accuracy: 0.9587 - loss: 0.1404 - val_accuracy: 0.9683 - val_loss: 0.1296\n",
      "Epoch 6/50\n",
      "750/750 - 8s - 11ms/step - accuracy: 0.9644 - loss: 0.1227 - val_accuracy: 0.9704 - val_loss: 0.1169\n",
      "Epoch 7/50\n",
      "750/750 - 8s - 11ms/step - accuracy: 0.9668 - loss: 0.1159 - val_accuracy: 0.9722 - val_loss: 0.1256\n",
      "Epoch 8/50\n",
      "750/750 - 6s - 9ms/step - accuracy: 0.9689 - loss: 0.1065 - val_accuracy: 0.9738 - val_loss: 0.1232\n",
      "Epoch 9/50\n",
      "750/750 - 7s - 9ms/step - accuracy: 0.9690 - loss: 0.1048 - val_accuracy: 0.9737 - val_loss: 0.1250\n",
      "Epoch 10/50\n",
      "750/750 - 7s - 9ms/step - accuracy: 0.9702 - loss: 0.1023 - val_accuracy: 0.9719 - val_loss: 0.1459\n",
      "Epoch 11/50\n",
      "750/750 - 6s - 8ms/step - accuracy: 0.9708 - loss: 0.1005 - val_accuracy: 0.9686 - val_loss: 0.1545\n",
      "Epoch 12/50\n",
      "750/750 - 6s - 8ms/step - accuracy: 0.9741 - loss: 0.0871 - val_accuracy: 0.9773 - val_loss: 0.1240\n",
      "Epoch 13/50\n",
      "750/750 - 6s - 8ms/step - accuracy: 0.9742 - loss: 0.0914 - val_accuracy: 0.9732 - val_loss: 0.1578\n",
      "Epoch 14/50\n",
      "750/750 - 6s - 8ms/step - accuracy: 0.9740 - loss: 0.0958 - val_accuracy: 0.9761 - val_loss: 0.1506\n",
      "Epoch 15/50\n",
      "750/750 - 6s - 8ms/step - accuracy: 0.9781 - loss: 0.0787 - val_accuracy: 0.9722 - val_loss: 0.1346\n",
      "Epoch 16/50\n",
      "750/750 - 8s - 10ms/step - accuracy: 0.9765 - loss: 0.0847 - val_accuracy: 0.9748 - val_loss: 0.1302\n",
      "Epoch 17/50\n",
      "750/750 - 7s - 9ms/step - accuracy: 0.9776 - loss: 0.0821 - val_accuracy: 0.9762 - val_loss: 0.1509\n",
      "Epoch 18/50\n",
      "750/750 - 7s - 9ms/step - accuracy: 0.9778 - loss: 0.0817 - val_accuracy: 0.9738 - val_loss: 0.1525\n",
      "Epoch 19/50\n",
      "750/750 - 7s - 9ms/step - accuracy: 0.9775 - loss: 0.0829 - val_accuracy: 0.9731 - val_loss: 0.1588\n",
      "Epoch 20/50\n",
      "750/750 - 7s - 9ms/step - accuracy: 0.9809 - loss: 0.0716 - val_accuracy: 0.9752 - val_loss: 0.1501\n",
      "Epoch 21/50\n",
      "750/750 - 7s - 9ms/step - accuracy: 0.9815 - loss: 0.0723 - val_accuracy: 0.9770 - val_loss: 0.1474\n",
      "Epoch 22/50\n",
      "750/750 - 8s - 10ms/step - accuracy: 0.9816 - loss: 0.0688 - val_accuracy: 0.9726 - val_loss: 0.1543\n",
      "Epoch 23/50\n",
      "750/750 - 7s - 9ms/step - accuracy: 0.9810 - loss: 0.0733 - val_accuracy: 0.9779 - val_loss: 0.1671\n",
      "Epoch 24/50\n",
      "750/750 - 6s - 8ms/step - accuracy: 0.9814 - loss: 0.0715 - val_accuracy: 0.9782 - val_loss: 0.1631\n",
      "Epoch 25/50\n",
      "750/750 - 6s - 8ms/step - accuracy: 0.9812 - loss: 0.0757 - val_accuracy: 0.9783 - val_loss: 0.1516\n",
      "Epoch 26/50\n",
      "750/750 - 6s - 8ms/step - accuracy: 0.9822 - loss: 0.0673 - val_accuracy: 0.9767 - val_loss: 0.1767\n",
      "Epoch 27/50\n",
      "750/750 - 6s - 9ms/step - accuracy: 0.9824 - loss: 0.0711 - val_accuracy: 0.9765 - val_loss: 0.1795\n",
      "Epoch 28/50\n",
      "750/750 - 7s - 9ms/step - accuracy: 0.9830 - loss: 0.0669 - val_accuracy: 0.9764 - val_loss: 0.1830\n",
      "Epoch 29/50\n",
      "750/750 - 6s - 9ms/step - accuracy: 0.9829 - loss: 0.0689 - val_accuracy: 0.9793 - val_loss: 0.1781\n",
      "Epoch 30/50\n",
      "750/750 - 6s - 9ms/step - accuracy: 0.9824 - loss: 0.0739 - val_accuracy: 0.9776 - val_loss: 0.1613\n",
      "Epoch 31/50\n",
      "750/750 - 7s - 9ms/step - accuracy: 0.9838 - loss: 0.0635 - val_accuracy: 0.9758 - val_loss: 0.2025\n",
      "Epoch 32/50\n",
      "750/750 - 7s - 9ms/step - accuracy: 0.9845 - loss: 0.0642 - val_accuracy: 0.9757 - val_loss: 0.1753\n",
      "Epoch 33/50\n",
      "750/750 - 7s - 9ms/step - accuracy: 0.9826 - loss: 0.0734 - val_accuracy: 0.9740 - val_loss: 0.2474\n",
      "Epoch 34/50\n",
      "750/750 - 6s - 9ms/step - accuracy: 0.9844 - loss: 0.0642 - val_accuracy: 0.9768 - val_loss: 0.1807\n",
      "Epoch 35/50\n",
      "750/750 - 6s - 8ms/step - accuracy: 0.9855 - loss: 0.0623 - val_accuracy: 0.9766 - val_loss: 0.2226\n",
      "Epoch 36/50\n",
      "750/750 - 6s - 9ms/step - accuracy: 0.9819 - loss: 0.0810 - val_accuracy: 0.9750 - val_loss: 0.2192\n",
      "Epoch 37/50\n",
      "750/750 - 7s - 9ms/step - accuracy: 0.9837 - loss: 0.0703 - val_accuracy: 0.9742 - val_loss: 0.2185\n",
      "Epoch 38/50\n",
      "750/750 - 6s - 8ms/step - accuracy: 0.9852 - loss: 0.0642 - val_accuracy: 0.9751 - val_loss: 0.2366\n",
      "Epoch 39/50\n",
      "750/750 - 7s - 9ms/step - accuracy: 0.9837 - loss: 0.0694 - val_accuracy: 0.9747 - val_loss: 0.2679\n",
      "Epoch 40/50\n",
      "750/750 - 6s - 8ms/step - accuracy: 0.9848 - loss: 0.0640 - val_accuracy: 0.9752 - val_loss: 0.2173\n",
      "Epoch 41/50\n",
      "750/750 - 6s - 8ms/step - accuracy: 0.9850 - loss: 0.0625 - val_accuracy: 0.9766 - val_loss: 0.2569\n",
      "Epoch 42/50\n",
      "750/750 - 6s - 8ms/step - accuracy: 0.9849 - loss: 0.0665 - val_accuracy: 0.9744 - val_loss: 0.2495\n",
      "Epoch 43/50\n",
      "750/750 - 6s - 8ms/step - accuracy: 0.9844 - loss: 0.0665 - val_accuracy: 0.9735 - val_loss: 0.2559\n",
      "Epoch 44/50\n",
      "750/750 - 6s - 8ms/step - accuracy: 0.9868 - loss: 0.0600 - val_accuracy: 0.9758 - val_loss: 0.2632\n",
      "Epoch 45/50\n",
      "750/750 - 6s - 8ms/step - accuracy: 0.9859 - loss: 0.0583 - val_accuracy: 0.9732 - val_loss: 0.2925\n",
      "Epoch 46/50\n",
      "750/750 - 7s - 9ms/step - accuracy: 0.9837 - loss: 0.0734 - val_accuracy: 0.9756 - val_loss: 0.3177\n",
      "Epoch 47/50\n",
      "750/750 - 6s - 8ms/step - accuracy: 0.9869 - loss: 0.0592 - val_accuracy: 0.9746 - val_loss: 0.2452\n",
      "Epoch 48/50\n",
      "750/750 - 7s - 9ms/step - accuracy: 0.9844 - loss: 0.0757 - val_accuracy: 0.9735 - val_loss: 0.3575\n",
      "Epoch 49/50\n",
      "750/750 - 7s - 10ms/step - accuracy: 0.9851 - loss: 0.0714 - val_accuracy: 0.9774 - val_loss: 0.2768\n",
      "Epoch 50/50\n",
      "750/750 - 7s - 10ms/step - accuracy: 0.9862 - loss: 0.0640 - val_accuracy: 0.9757 - val_loss: 0.2562\n"
     ]
    }
   ],
   "source": [
    "model = mnist_model(input_shape)\n",
    "\n",
    "early_stopping_1 = EarlyStopping(\n",
    "    monitor = \"vall_accuracy\",\n",
    "    patience = 3, #herhangi bir gelisme olms. dahi egitime +3 adim daha devam eder\n",
    "    min_delta = 0.001, #kabul edebilecegi min. iyilesme orani ->0.001\n",
    "    mode =\"min\", #auto\n",
    ")\n",
    "\n",
    "history_early_stopping_1 = model.fit(\n",
    "                                    x = train_images,\n",
    "                                    y = train_labels,\n",
    "                                    epochs = 50,\n",
    "                                    validation_split = 0.2,\n",
    "                                    batch_size = 64,\n",
    "                                    verbose = 2,\n",
    "                                    callbacks = [early_stopping_1]\n",
    ")\n"
   ]
  },
  {
   "cell_type": "code",
   "execution_count": 40,
   "metadata": {},
   "outputs": [
    {
     "data": {
      "image/png": "[encoded data removed]",
      "text/plain": [
       "<Figure size 640x480 with 1 Axes>"
      ]
     },
     "metadata": {},
     "output_type": "display_data"
    }
   ],
   "source": [
    "plotData(history_early_stopping_1,\"accuracy\")"
   ]
  },
  {
   "cell_type": "code",
   "execution_count": 41,
   "metadata": {},
   "outputs": [
    {
     "name": "stdout",
     "output_type": "stream",
     "text": [
      "Epoch 1/20\n",
      "750/750 - 11s - 15ms/step - accuracy: 0.8089 - loss: 1.3244 - val_accuracy: 0.9274 - val_loss: 0.3206\n",
      "Epoch 2/20\n",
      "750/750 - 6s - 8ms/step - accuracy: 0.9002 - loss: 0.3740 - val_accuracy: 0.9538 - val_loss: 0.2044\n",
      "Epoch 3/20\n",
      "750/750 - 6s - 9ms/step - accuracy: 0.9285 - loss: 0.2557 - val_accuracy: 0.9622 - val_loss: 0.1602\n",
      "Epoch 4/20\n",
      "750/750 - 7s - 9ms/step - accuracy: 0.9455 - loss: 0.1968 - val_accuracy: 0.9684 - val_loss: 0.1355\n",
      "Epoch 5/20\n",
      "750/750 - 7s - 9ms/step - accuracy: 0.9514 - loss: 0.1715 - val_accuracy: 0.9656 - val_loss: 0.1518\n",
      "Epoch 6/20\n",
      "750/750 - 6s - 8ms/step - accuracy: 0.9588 - loss: 0.1465 - val_accuracy: 0.9675 - val_loss: 0.1500\n",
      "Epoch 7/20\n",
      "750/750 - 7s - 9ms/step - accuracy: 0.9600 - loss: 0.1411 - val_accuracy: 0.9680 - val_loss: 0.1395\n",
      "Epoch 8/20\n",
      "750/750 - 6s - 8ms/step - accuracy: 0.9621 - loss: 0.1365 - val_accuracy: 0.9677 - val_loss: 0.1467\n",
      "Epoch 9/20\n",
      "750/750 - 7s - 9ms/step - accuracy: 0.9662 - loss: 0.1216 - val_accuracy: 0.9663 - val_loss: 0.1470\n",
      "Epoch 10/20\n",
      "750/750 - 7s - 9ms/step - accuracy: 0.9669 - loss: 0.1142 - val_accuracy: 0.9718 - val_loss: 0.1310\n",
      "Epoch 11/20\n",
      "750/750 - 6s - 9ms/step - accuracy: 0.9686 - loss: 0.1080 - val_accuracy: 0.9699 - val_loss: 0.1424\n",
      "Epoch 12/20\n",
      "750/750 - 7s - 9ms/step - accuracy: 0.9707 - loss: 0.1073 - val_accuracy: 0.9743 - val_loss: 0.1298\n",
      "Epoch 13/20\n",
      "750/750 - 8s - 10ms/step - accuracy: 0.9728 - loss: 0.0934 - val_accuracy: 0.9750 - val_loss: 0.1276\n",
      "Epoch 14/20\n",
      "750/750 - 10s - 13ms/step - accuracy: 0.9719 - loss: 0.0998 - val_accuracy: 0.9758 - val_loss: 0.1381\n",
      "Epoch 15/20\n",
      "750/750 - 8s - 11ms/step - accuracy: 0.9722 - loss: 0.0993 - val_accuracy: 0.9741 - val_loss: 0.1137\n",
      "Epoch 16/20\n",
      "750/750 - 7s - 9ms/step - accuracy: 0.9744 - loss: 0.0917 - val_accuracy: 0.9733 - val_loss: 0.1281\n",
      "Epoch 17/20\n",
      "750/750 - 7s - 9ms/step - accuracy: 0.9757 - loss: 0.0855 - val_accuracy: 0.9688 - val_loss: 0.1617\n",
      "Epoch 18/20\n",
      "750/750 - 7s - 9ms/step - accuracy: 0.9751 - loss: 0.0905 - val_accuracy: 0.9726 - val_loss: 0.1349\n",
      "Epoch 19/20\n",
      "750/750 - 7s - 9ms/step - accuracy: 0.9757 - loss: 0.0860 - val_accuracy: 0.9743 - val_loss: 0.1295\n",
      "Epoch 20/20\n",
      "750/750 - 6s - 8ms/step - accuracy: 0.9785 - loss: 0.0794 - val_accuracy: 0.9733 - val_loss: 0.1493\n"
     ]
    }
   ],
   "source": [
    "from keras.callbacks import CSVLogger\n",
    "\n",
    "csv = CSVLogger(\"logs/result.csv\")\n",
    "model = mnist_model(input_shape)\n",
    "\n",
    "history_csv_logger = model.fit(\n",
    "                               x = train_images,\n",
    "                               y = train_labels,\n",
    "                               epochs = 20,\n",
    "                               validation_split = 0.20,\n",
    "                               batch_size = 64,\n",
    "                               verbose = 2,\n",
    "                               callbacks = [csv]\n",
    "                               )"
   ]
  },
  {
   "cell_type": "code",
   "execution_count": 42,
   "metadata": {},
   "outputs": [
    {
     "name": "stdout",
     "output_type": "stream",
     "text": [
      "Defaulting to user installation because normal site-packages is not writeable\n",
      "Requirement already satisfied: pandas in /home/isu-researcher/.local/lib/python3.10/site-packages (2.2.2)\n",
      "Requirement already satisfied: tzdata>=2022.7 in /home/isu-researcher/.local/lib/python3.10/site-packages (from pandas) (2024.1)\n",
      "Requirement already satisfied: pytz>=2020.1 in /usr/lib/python3/dist-packages (from pandas) (2022.1)\n",
      "Requirement already satisfied: numpy>=1.22.4 in /home/isu-researcher/.local/lib/python3.10/site-packages (from pandas) (1.26.4)\n",
      "Requirement already satisfied: python-dateutil>=2.8.2 in /home/isu-researcher/.local/lib/python3.10/site-packages (from pandas) (2.9.0.post0)\n",
      "Requirement already satisfied: six>=1.5 in /usr/lib/python3/dist-packages (from python-dateutil>=2.8.2->pandas) (1.16.0)\n",
      "Note: you may need to restart the kernel to use updated packages.\n"
     ]
    }
   ],
   "source": [
    "%pip install pandas"
   ]
  },
  {
   "cell_type": "code",
   "execution_count": 43,
   "metadata": {},
   "outputs": [
    {
     "data": {
      "text/html": [
       "<div>\n",
       "<style scoped>\n",
       "    .dataframe tbody tr th:only-of-type {\n",
       "        vertical-align: middle;\n",
       "    }\n",
       "\n",
       "    .dataframe tbody tr th {\n",
       "        vertical-align: top;\n",
       "    }\n",
       "\n",
       "    .dataframe thead th {\n",
       "        text-align: right;\n",
       "    }\n",
       "</style>\n",
       "<table border=\"1\" class=\"dataframe\">\n",
       "  <thead>\n",
       "    <tr style=\"text-align: right;\">\n",
       "      <th></th>\n",
       "      <th>accuracy</th>\n",
       "      <th>loss</th>\n",
       "      <th>val_accuracy</th>\n",
       "      <th>val_loss</th>\n",
       "    </tr>\n",
       "    <tr>\n",
       "      <th>epoch</th>\n",
       "      <th></th>\n",
       "      <th></th>\n",
       "      <th></th>\n",
       "      <th></th>\n",
       "    </tr>\n",
       "  </thead>\n",
       "  <tbody>\n",
       "    <tr>\n",
       "      <th>0</th>\n",
       "      <td>0.808917</td>\n",
       "      <td>1.324433</td>\n",
       "      <td>0.927417</td>\n",
       "      <td>0.320625</td>\n",
       "    </tr>\n",
       "    <tr>\n",
       "      <th>1</th>\n",
       "      <td>0.900208</td>\n",
       "      <td>0.374046</td>\n",
       "      <td>0.953750</td>\n",
       "      <td>0.204376</td>\n",
       "    </tr>\n",
       "    <tr>\n",
       "      <th>2</th>\n",
       "      <td>0.928521</td>\n",
       "      <td>0.255684</td>\n",
       "      <td>0.962167</td>\n",
       "      <td>0.160234</td>\n",
       "    </tr>\n",
       "    <tr>\n",
       "      <th>3</th>\n",
       "      <td>0.945542</td>\n",
       "      <td>0.196797</td>\n",
       "      <td>0.968417</td>\n",
       "      <td>0.135510</td>\n",
       "    </tr>\n",
       "    <tr>\n",
       "      <th>4</th>\n",
       "      <td>0.951417</td>\n",
       "      <td>0.171541</td>\n",
       "      <td>0.965583</td>\n",
       "      <td>0.151837</td>\n",
       "    </tr>\n",
       "    <tr>\n",
       "      <th>5</th>\n",
       "      <td>0.958771</td>\n",
       "      <td>0.146506</td>\n",
       "      <td>0.967500</td>\n",
       "      <td>0.149974</td>\n",
       "    </tr>\n",
       "    <tr>\n",
       "      <th>6</th>\n",
       "      <td>0.959958</td>\n",
       "      <td>0.141084</td>\n",
       "      <td>0.968000</td>\n",
       "      <td>0.139544</td>\n",
       "    </tr>\n",
       "    <tr>\n",
       "      <th>7</th>\n",
       "      <td>0.962104</td>\n",
       "      <td>0.136474</td>\n",
       "      <td>0.967667</td>\n",
       "      <td>0.146738</td>\n",
       "    </tr>\n",
       "    <tr>\n",
       "      <th>8</th>\n",
       "      <td>0.966208</td>\n",
       "      <td>0.121646</td>\n",
       "      <td>0.966333</td>\n",
       "      <td>0.147045</td>\n",
       "    </tr>\n",
       "    <tr>\n",
       "      <th>9</th>\n",
       "      <td>0.966917</td>\n",
       "      <td>0.114224</td>\n",
       "      <td>0.971750</td>\n",
       "      <td>0.131001</td>\n",
       "    </tr>\n",
       "    <tr>\n",
       "      <th>10</th>\n",
       "      <td>0.968646</td>\n",
       "      <td>0.108040</td>\n",
       "      <td>0.969917</td>\n",
       "      <td>0.142438</td>\n",
       "    </tr>\n",
       "    <tr>\n",
       "      <th>11</th>\n",
       "      <td>0.970708</td>\n",
       "      <td>0.107326</td>\n",
       "      <td>0.974333</td>\n",
       "      <td>0.129818</td>\n",
       "    </tr>\n",
       "    <tr>\n",
       "      <th>12</th>\n",
       "      <td>0.972833</td>\n",
       "      <td>0.093439</td>\n",
       "      <td>0.975000</td>\n",
       "      <td>0.127599</td>\n",
       "    </tr>\n",
       "    <tr>\n",
       "      <th>13</th>\n",
       "      <td>0.971917</td>\n",
       "      <td>0.099768</td>\n",
       "      <td>0.975833</td>\n",
       "      <td>0.138082</td>\n",
       "    </tr>\n",
       "    <tr>\n",
       "      <th>14</th>\n",
       "      <td>0.972229</td>\n",
       "      <td>0.099322</td>\n",
       "      <td>0.974083</td>\n",
       "      <td>0.113713</td>\n",
       "    </tr>\n",
       "    <tr>\n",
       "      <th>15</th>\n",
       "      <td>0.974417</td>\n",
       "      <td>0.091745</td>\n",
       "      <td>0.973333</td>\n",
       "      <td>0.128144</td>\n",
       "    </tr>\n",
       "    <tr>\n",
       "      <th>16</th>\n",
       "      <td>0.975729</td>\n",
       "      <td>0.085500</td>\n",
       "      <td>0.968750</td>\n",
       "      <td>0.161743</td>\n",
       "    </tr>\n",
       "    <tr>\n",
       "      <th>17</th>\n",
       "      <td>0.975146</td>\n",
       "      <td>0.090537</td>\n",
       "      <td>0.972583</td>\n",
       "      <td>0.134895</td>\n",
       "    </tr>\n",
       "    <tr>\n",
       "      <th>18</th>\n",
       "      <td>0.975708</td>\n",
       "      <td>0.085954</td>\n",
       "      <td>0.974250</td>\n",
       "      <td>0.129458</td>\n",
       "    </tr>\n",
       "    <tr>\n",
       "      <th>19</th>\n",
       "      <td>0.978521</td>\n",
       "      <td>0.079420</td>\n",
       "      <td>0.973333</td>\n",
       "      <td>0.149336</td>\n",
       "    </tr>\n",
       "  </tbody>\n",
       "</table>\n",
       "</div>"
      ],
      "text/plain": [
       "       accuracy      loss  val_accuracy  val_loss\n",
       "epoch                                            \n",
       "0      0.808917  1.324433      0.927417  0.320625\n",
       "1      0.900208  0.374046      0.953750  0.204376\n",
       "2      0.928521  0.255684      0.962167  0.160234\n",
       "3      0.945542  0.196797      0.968417  0.135510\n",
       "4      0.951417  0.171541      0.965583  0.151837\n",
       "5      0.958771  0.146506      0.967500  0.149974\n",
       "6      0.959958  0.141084      0.968000  0.139544\n",
       "7      0.962104  0.136474      0.967667  0.146738\n",
       "8      0.966208  0.121646      0.966333  0.147045\n",
       "9      0.966917  0.114224      0.971750  0.131001\n",
       "10     0.968646  0.108040      0.969917  0.142438\n",
       "11     0.970708  0.107326      0.974333  0.129818\n",
       "12     0.972833  0.093439      0.975000  0.127599\n",
       "13     0.971917  0.099768      0.975833  0.138082\n",
       "14     0.972229  0.099322      0.974083  0.113713\n",
       "15     0.974417  0.091745      0.973333  0.128144\n",
       "16     0.975729  0.085500      0.968750  0.161743\n",
       "17     0.975146  0.090537      0.972583  0.134895\n",
       "18     0.975708  0.085954      0.974250  0.129458\n",
       "19     0.978521  0.079420      0.973333  0.149336"
      ]
     },
     "execution_count": 43,
     "metadata": {},
     "output_type": "execute_result"
    }
   ],
   "source": [
    "import pandas as pd\n",
    "\n",
    "pd.read_csv(\"logs/result.csv\", index_col=\"epoch\")"
   ]
  },
  {
   "cell_type": "code",
   "execution_count": 49,
   "metadata": {},
   "outputs": [
    {
     "name": "stdout",
     "output_type": "stream",
     "text": [
      "Epoch 1/10\n"
     ]
    },
    {
     "name": "stderr",
     "output_type": "stream",
     "text": [
      "/home/isu-researcher/.local/lib/python3.10/site-packages/keras/src/layers/convolutional/base_conv.py:107: UserWarning: Do not pass an `input_shape`/`input_dim` argument to a layer. When using Sequential models, prefer using an `Input(shape)` object as the first layer in the model instead.\n",
      "  super().__init__(activity_regularizer=activity_regularizer, **kwargs)\n"
     ]
    },
    {
     "name": "stdout",
     "output_type": "stream",
     "text": [
      "\n",
      "Epoch 1: saving model to models/checkpoint.weights.h5\n",
      "750/750 - 9s - 12ms/step - accuracy: 0.8043 - loss: 1.2156 - val_accuracy: 0.9328 - val_loss: 0.3101\n",
      "Epoch 2/10\n",
      "\n",
      "Epoch 2: saving model to models/checkpoint.weights.h5\n",
      "750/750 - 8s - 11ms/step - accuracy: 0.9094 - loss: 0.3397 - val_accuracy: 0.9522 - val_loss: 0.2015\n",
      "Epoch 3/10\n",
      "\n",
      "Epoch 3: saving model to models/checkpoint.weights.h5\n",
      "750/750 - 8s - 11ms/step - accuracy: 0.9361 - loss: 0.2290 - val_accuracy: 0.9632 - val_loss: 0.1591\n",
      "Epoch 4/10\n",
      "\n",
      "Epoch 4: saving model to models/checkpoint.weights.h5\n",
      "750/750 - 8s - 10ms/step - accuracy: 0.9486 - loss: 0.1792 - val_accuracy: 0.9684 - val_loss: 0.1291\n",
      "Epoch 5/10\n",
      "\n",
      "Epoch 5: saving model to models/checkpoint.weights.h5\n",
      "750/750 - 9s - 12ms/step - accuracy: 0.9558 - loss: 0.1540 - val_accuracy: 0.9712 - val_loss: 0.1281\n",
      "Epoch 6/10\n",
      "\n",
      "Epoch 6: saving model to models/checkpoint.weights.h5\n",
      "750/750 - 8s - 11ms/step - accuracy: 0.9631 - loss: 0.1342 - val_accuracy: 0.9642 - val_loss: 0.1443\n",
      "Epoch 7/10\n",
      "\n",
      "Epoch 7: saving model to models/checkpoint.weights.h5\n",
      "750/750 - 8s - 11ms/step - accuracy: 0.9612 - loss: 0.1371 - val_accuracy: 0.9721 - val_loss: 0.1237\n",
      "Epoch 8/10\n",
      "\n",
      "Epoch 8: saving model to models/checkpoint.weights.h5\n",
      "750/750 - 9s - 11ms/step - accuracy: 0.9670 - loss: 0.1165 - val_accuracy: 0.9732 - val_loss: 0.1199\n",
      "Epoch 9/10\n",
      "\n",
      "Epoch 9: saving model to models/checkpoint.weights.h5\n",
      "750/750 - 8s - 11ms/step - accuracy: 0.9683 - loss: 0.1109 - val_accuracy: 0.9734 - val_loss: 0.1259\n",
      "Epoch 10/10\n",
      "\n",
      "Epoch 10: saving model to models/checkpoint.weights.h5\n",
      "750/750 - 8s - 11ms/step - accuracy: 0.9687 - loss: 0.1092 - val_accuracy: 0.9724 - val_loss: 0.1261\n"
     ]
    }
   ],
   "source": [
    "from keras.callbacks import ModelCheckpoint \n",
    "#eigitim dosyalarını belirli adımlarla kaydetmemizi saglar\n",
    "\n",
    "path = \"models/checkpoint.weights.h5\"\n",
    "\n",
    "checkpoint = ModelCheckpoint(\n",
    "                             filepath = path,\n",
    "                             save_freq =\"epoch\", #hangi sıklıkla kaydetmek istiyoruz\n",
    "                             save_weights_only = True,\n",
    "                             verbose =1,\n",
    "                             )\n",
    "\n",
    "model = mnist_model(input_shape)\n",
    "\n",
    "history_checkpoint = model.fit(\n",
    "                               x = train_images,\n",
    "                               y = train_labels,\n",
    "                               epochs = 10,\n",
    "                               validation_split = 0.20,\n",
    "                               batch_size = 64,\n",
    "                               verbose = 2,\n",
    "                               callbacks = [checkpoint]\n",
    "                               )"
   ]
  }
 ],
 "metadata": {
  "kernelspec": {
   "display_name": "Python 3",
   "language": "python",
   "name": "python3"
  },
  "language_info": {
   "codemirror_mode": {
    "name": "ipython",
    "version": 3
   },
   "file_extension": ".py",
   "mimetype": "text/x-python",
   "name": "python",
   "nbconvert_exporter": "python",
   "pygments_lexer": "ipython3",
   "version": "3.10.12"
  }
 },
 "nbformat": 4,
 "nbformat_minor": 2
}
