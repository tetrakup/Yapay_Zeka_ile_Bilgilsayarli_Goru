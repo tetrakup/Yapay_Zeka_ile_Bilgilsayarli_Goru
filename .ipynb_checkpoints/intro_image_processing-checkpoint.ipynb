{
 "cells": [
  {
   "cell_type": "code",
   "execution_count": 12,
   "id": "e60b4a80-b21b-4818-be6b-d180558cf1b9",
   "metadata": {},
   "outputs": [],
   "source": [
    "#library\n",
    "import cv2\n",
    "import numpy as np #temel matrix işl. icin"
   ]
  },
  {
   "cell_type": "code",
   "execution_count": 15,
   "id": "055d8786-1067-473d-a466-dcceecce2681",
   "metadata": {},
   "outputs": [
    {
     "data": {
      "text/plain": [
       "array([[[1, 1, 1],\n",
       "        [1, 1, 1],\n",
       "        [1, 1, 1],\n",
       "        ...,\n",
       "        [1, 1, 1],\n",
       "        [1, 1, 1],\n",
       "        [1, 1, 1]],\n",
       "\n",
       "       [[1, 1, 1],\n",
       "        [1, 1, 1],\n",
       "        [1, 1, 1],\n",
       "        ...,\n",
       "        [1, 1, 1],\n",
       "        [1, 1, 1],\n",
       "        [1, 1, 1]],\n",
       "\n",
       "       [[1, 1, 1],\n",
       "        [1, 1, 1],\n",
       "        [1, 1, 1],\n",
       "        ...,\n",
       "        [1, 1, 1],\n",
       "        [1, 1, 1],\n",
       "        [1, 1, 1]],\n",
       "\n",
       "       ...,\n",
       "\n",
       "       [[1, 1, 1],\n",
       "        [1, 1, 1],\n",
       "        [1, 1, 1],\n",
       "        ...,\n",
       "        [1, 1, 1],\n",
       "        [1, 1, 1],\n",
       "        [1, 1, 1]],\n",
       "\n",
       "       [[1, 1, 1],\n",
       "        [1, 1, 1],\n",
       "        [1, 1, 1],\n",
       "        ...,\n",
       "        [1, 1, 1],\n",
       "        [1, 1, 1],\n",
       "        [1, 1, 1]],\n",
       "\n",
       "       [[1, 1, 1],\n",
       "        [1, 1, 1],\n",
       "        [1, 1, 1],\n",
       "        ...,\n",
       "        [1, 1, 1],\n",
       "        [1, 1, 1],\n",
       "        [1, 1, 1]]], dtype=uint8)"
      ]
     },
     "execution_count": 15,
     "metadata": {},
     "output_type": "execute_result"
    }
   ],
   "source": [
    "#reading, saving, displaying images\n",
    "img = cv2.imread(\"datasets/mathilda.jpg\")\n",
    "img\n"
   ]
  },
  {
   "cell_type": "code",
   "execution_count": 3,
   "id": "01ab0af2-56d0-484e-930e-704841f61fef",
   "metadata": {},
   "outputs": [],
   "source": [
    "#scaling(boyutlandirmak), roi (region of interest)"
   ]
  },
  {
   "cell_type": "code",
   "execution_count": 4,
   "id": "791524d7-9072-4749-ab2d-3308f542b023",
   "metadata": {},
   "outputs": [],
   "source": [
    "#colorspaces"
   ]
  },
  {
   "cell_type": "code",
   "execution_count": 6,
   "id": "8d67fdbe-191c-4e40-bcab-890484738769",
   "metadata": {},
   "outputs": [],
   "source": [
    "#drawing fuctions -line"
   ]
  },
  {
   "cell_type": "code",
   "execution_count": 7,
   "id": "8c192e6a-e69b-4ff7-bca8-bb96bd28c2ea",
   "metadata": {},
   "outputs": [],
   "source": [
    "#drawing fuctions -circle"
   ]
  },
  {
   "cell_type": "code",
   "execution_count": 8,
   "id": "eef4ff06-44f9-449d-a987-f956644e5a00",
   "metadata": {},
   "outputs": [],
   "source": [
    "#drawing fuctions -rectange"
   ]
  },
  {
   "cell_type": "code",
   "execution_count": null,
   "id": "35b1f8cc-c792-477f-b389-d2de762a3e86",
   "metadata": {},
   "outputs": [],
   "source": [
    "#drawing fuctions -text"
   ]
  }
 ],
 "metadata": {
  "kernelspec": {
   "display_name": "Python 3 (ipykernel)",
   "language": "python",
   "name": "python3"
  },
  "language_info": {
   "codemirror_mode": {
    "name": "ipython",
    "version": 3
   },
   "file_extension": ".py",
   "mimetype": "text/x-python",
   "name": "python",
   "nbconvert_exporter": "python",
   "pygments_lexer": "ipython3",
   "version": "3.10.12"
  }
 },
 "nbformat": 4,
 "nbformat_minor": 5
}
