{
 "cells": [
  {
   "cell_type": "code",
   "execution_count": 1,
   "metadata": {},
   "outputs": [],
   "source": [
    "import cv2\n",
    "import numpy as np"
   ]
  },
  {
   "cell_type": "code",
   "execution_count": 2,
   "metadata": {},
   "outputs": [],
   "source": [
    "img = cv2.imread(\"test.jpg\")\n",
    "\n",
    "model = cv2.dnn.readNetFromCaffe(\"data/deploy.prototxt.txt\",\n",
    "                                 \"data/res10_300x300_ssd_iter_140000.caffemodel\"\n",
    "                                 )"
   ]
  },
  {
   "cell_type": "code",
   "execution_count": 3,
   "metadata": {},
   "outputs": [],
   "source": [
    "height, width, channel = img.shape"
   ]
  },
  {
   "cell_type": "code",
   "execution_count": 4,
   "metadata": {},
   "outputs": [],
   "source": [
    "blob = cv2.dnn.blobFromImage(\n",
    "                             cv2.resize(img, (300,300)),\n",
    "                             1.0, #scalefactor\n",
    "                             (300,300), #tensor boyutlari \n",
    "                             (104,117,123), #mean\n",
    "                             )\n",
    "\n",
    "model.setInput(blob)\n",
    "output = model.forward()"
   ]
  },
  {
   "cell_type": "code",
   "execution_count": 5,
   "metadata": {},
   "outputs": [
    {
     "data": {
      "text/plain": [
       "(1, 1, 200, 7)"
      ]
     },
     "execution_count": 5,
     "metadata": {},
     "output_type": "execute_result"
    }
   ],
   "source": [
    "output.shape #(1, 1, 200, 7)--> buradaki 200 bulduğumuz detections'larin sayisi"
   ]
  },
  {
   "cell_type": "code",
   "execution_count": 10,
   "metadata": {},
   "outputs": [],
   "source": [
    "\n",
    "\n",
    "for detection in range(0, output.shape[2]): #burada 0'dan 200'e kadar ulasmasi isteniyor.\n",
    "\n",
    "    confidence = output[0,0,detection,2]\n",
    "\n",
    "    if confidence > .5: #guvenilirlik orani %50den yuksekse\n",
    "\n",
    "        loc = output[0,0,detection,3:7] * np.array([width,height,width,height])\n",
    "        x1, y1, x2, y2 = loc.astype(\"int\")\n",
    "\n",
    "        cv2.rectangle(img, (x1,y1), (x2, y2), (0,255,0), thickness=2)\n",
    "\n",
    "    \"\"\"cv2.imshow(\"Prediction\", img)\n",
    "    cv2.imwrite(\"result.jpg\", img)\n",
    "    cv2.waitKey(0)\n",
    "    cv2.destroyAllWindows\"\"\"\n",
    "cv2.imshow(\"Prediction\", img)\n",
    "cv2.imwrite(\"result.jpg\", img)\n",
    "\n",
    "while True:\n",
    "    if cv2.waitKey(1) & 0xFF == ord('q'):  # 'q' tuşuna basıldığında çık\n",
    "        break\n",
    "\n",
    "cv2.destroyAllWindows()\n",
    "\n"
   ]
  }
 ],
 "metadata": {
  "kernelspec": {
   "display_name": "Python 3",
   "language": "python",
   "name": "python3"
  },
  "language_info": {
   "codemirror_mode": {
    "name": "ipython",
    "version": 3
   },
   "file_extension": ".py",
   "mimetype": "text/x-python",
   "name": "python",
   "nbconvert_exporter": "python",
   "pygments_lexer": "ipython3",
   "version": "3.10.12"
  }
 },
 "nbformat": 4,
 "nbformat_minor": 2
}
